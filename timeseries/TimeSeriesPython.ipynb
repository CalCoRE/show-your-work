{
 "cells": [
  {
   "cell_type": "markdown",
   "id": "0",
   "metadata": {},
   "source": [
    "# Seeing Change Over Time: An Introduction to Time Series Analysis\n",
    "\n",
    "<div class=\"alert alert-info\">\n",
    "\n",
    "Welcome back! This activity is part of an introduction to computational notebooks, designed specifically for K-12 educators.\n",
    "                                                                                                         \n",
    "Here, we'll dive into a specific, powerful type of analysis: **exploring data that changes over time**. This is called **time series analysis**.\n",
    "\n",
    "</div>\n",
    "<br/>\n",
    "\n",
    "Data that unfolds over time is everywhere: daily temperature, stock market prices, student attendance, historical events, and ecological changes.\n",
    "<br/>"
   ]
  },
  {
   "cell_type": "markdown",
   "id": "1",
   "metadata": {},
   "source": [
    "<hr style=\"border: 5px solid #003262;\" />"
   ]
  },
  {
   "cell_type": "markdown",
   "id": "2",
   "metadata": {},
   "source": [
    "## Key Ideas in Time Series Analysis\n",
    "<br/>\n",
    "\n",
    "To explore some of the key ideas related to the code, math, and science of time series analysis, in this notebook we will be exploring **air quality data**.\n",
    "\n",
    "\n",
    "**Our Learning Goals:**\n",
    "\n",
    "* ⏰ **Handling Dates and Times:** Learn to create and use `datetime` objects for organizing data and handling tricky cases like leap years.  \n",
    "\n",
    "* 📈 **Visualizing Trends:** Use `lineplot` to reveal patterns and create clear, accurate line plots.  \n",
    "\n",
    "* 📊 **Statistics/Data:** Identify trends and cycles in time series, and separate real signals from random noise.  \n",
    "\n",
    "* 🌍 **Content:** Explore how air quality is measured and uncover patterns linked to real-world events and behaviors.  \n",
    "\n",
    "\n"
   ]
  },
  {
   "cell_type": "markdown",
   "id": "3",
   "metadata": {},
   "source": [
    "<hr style=\"border: 1px solid #fdb515;\" />\n",
    "\n",
    "## Introducing Some Key Ideas\n",
    "\n",
    "We'll start with a quick intro to the foundations of time series data by looking at hourly air quality measurements.  \n",
    "\n",
    "Our focus is the **Air Quality Index (AQI)**, a measure widely used by health and government agencies to communicate air safety. AQI combines several pollutants into a single score that reflects whether the air is safe to breathe.  \n",
    "\n",
    "The data we'll explore comes from an air quality monitoring station in **West Oakland, California**.  "
   ]
  },
  {
   "cell_type": "markdown",
   "id": "4",
   "metadata": {},
   "source": [
    "\n",
    "---\n",
    "\n",
    "### Part I: Loading the Data"
   ]
  },
  {
   "cell_type": "markdown",
   "id": "5",
   "metadata": {},
   "source": [
    "We're going to load a dataset of hourly AQI readings from one week at a West Oakland monitoring station.  \n",
    "\n",
    "The data comes from the Bay Area Air Quality Management District, which monitors and reports on air quality across the Bay Area.  \n"
   ]
  },
  {
   "cell_type": "code",
   "execution_count": null,
   "id": "6",
   "metadata": {},
   "outputs": [],
   "source": [
    "import pandas as pd # pandas is for making data tables\n",
    "\n",
    "aqi_data = pd.read_csv('baaqmd_data.csv') # read the data\n",
    "\n",
    "aqi_data.head(10) # show the first 10 rows of data"
   ]
  },
  {
   "cell_type": "markdown",
   "id": "7",
   "metadata": {},
   "source": [
    "<div class=\"alert alert-success\">\n",
    "\n",
    "**Considering the data above…**\n",
    "\n",
    "* What do you notice and wonder about this dataset?  \n",
    "\n",
    "* What questions could you explore further?  "
   ]
  },
  {
   "cell_type": "markdown",
   "id": "8",
   "metadata": {},
   "source": [
    "We'll use this dataset to practice coding and creating visualizations for time series analysis.  \n",
    "<br/>\n",
    "Remember: good documentation explains the **why** (in text) and the \n",
    "**how** (in `# code comments`).  \n"
   ]
  },
  {
   "cell_type": "markdown",
   "id": "9",
   "metadata": {},
   "source": [
    "\n",
    "---\n",
    "\n",
    "### Part II: Working with `datetime`"
   ]
  },
  {
   "cell_type": "markdown",
   "id": "10",
   "metadata": {},
   "source": [
    "You may have noticed that the month, day, year, and hour of each AQI record are stored in separate columns. If we tried to graph the data this way, we couldn’t place \"time\" correctly on the x-axis.  \n",
    "\n",
    "To fix this, we’ll combine them into a single `datetime`, a special format computers use to organize time.  \n"
   ]
  },
  {
   "cell_type": "markdown",
   "id": "11",
   "metadata": {},
   "source": [
    "Let’s look at a quick example with one date, then apply the same process to all AQI records.  \n",
    "\n",
    "👉 Try replacing the code below with a date that’s special to you!  \n"
   ]
  },
  {
   "cell_type": "code",
   "execution_count": null,
   "id": "12",
   "metadata": {},
   "outputs": [],
   "source": [
    "# often, datasets express date and time separately. \n",
    "# we will practice with a single, split up date\n",
    "year = 2025 # a number format\n",
    "month = 5\n",
    "day = 6\n",
    "time = \"17:53\" # a string/text format\n",
    "\n",
    "# let's split the time up into hours and minutes\n",
    "# the line below makes the values before ':' go to hours\n",
    "# and the values after ':' go to minutes\n",
    "hours, minutes = time.split(':')\n",
    "\n",
    "# first, we put these together into a common date format \n",
    "consolidated = str(month) + \"-\" + str(day) + \"-\" + str(year) + \" \" + str(hours) + \":\" + str (minutes)\n",
    "consolidated # show the text string we made"
   ]
  },
  {
   "cell_type": "markdown",
   "id": "13",
   "metadata": {},
   "source": [
    "Now, we want to take the combined date and convert it to the `datetime` object. \n",
    "\n",
    "Making something an \"object\" means the computer recognizes it as something (like a date) that can be treated in special ways (like adding hours or days to it), rather than just text."
   ]
  },
  {
   "cell_type": "code",
   "execution_count": null,
   "id": "14",
   "metadata": {},
   "outputs": [],
   "source": [
    "# if a text string uses a common date format, the to_datetime\n",
    "# function will automatically read and convert it to a\n",
    "# datetime. \n",
    "\n",
    "pd.to_datetime(consolidated)"
   ]
  },
  {
   "cell_type": "markdown",
   "id": "15",
   "metadata": {},
   "source": [
    "After using `to_datetime`, the date is the same but it is represented slightly differently as a \"Timestamp.\" The computer now recognizes it as a special object representing time. \n",
    "\n",
    "Below, we’ll repeat this process for the entire air quality dataset. \n",
    "\n",
    "Earlier, we tried it with just one date. This time, the code looks a bit different because it applies to *all* the records in `aqi_data`.  "
   ]
  },
  {
   "cell_type": "code",
   "execution_count": null,
   "id": "16",
   "metadata": {},
   "outputs": [],
   "source": [
    "# Each record has Month, Day, Year, and Time.\n",
    "# First, split the Time into Hours and Minutes.\n",
    "\n",
    "# Make new columns \"Hours\" and \"Minutes\" by splitting the \"Time\" column.\n",
    "aqi_data[['Hours', 'Minutes']] = aqi_data['Time'].str.split(':', expand=True).astype(int)\n",
    "\n",
    "# Collect the parts of each date (year, month, day, hour, minute).\n",
    "datetime_info = {\n",
    "    'year': aqi_data['Year'],\n",
    "    'month': aqi_data['Month'],\n",
    "    'day': aqi_data['Day'],\n",
    "    'hour': aqi_data['Hours'],\n",
    "    'minute': aqi_data['Minutes']\n",
    "}\n",
    "\n",
    "# Convert to a single datetime and save it in a new column.\n",
    "aqi_data['datetime'] = pd.to_datetime(datetime_info)\n",
    "\n",
    "# Show the dataset with the new datetime column.\n",
    "aqi_data"
   ]
  },
  {
   "cell_type": "markdown",
   "id": "17",
   "metadata": {},
   "source": [
    "<div class=\"alert alert-success\">\n",
    "\n",
    "**Explore the new table above…**\n",
    "\n",
    "* How might the new `datetime` column help with analysis?  \n",
    "\n",
    "    \n",
    "* What questions do you still have about what we’ve done here?  \n",
    "\n",
    "\n"
   ]
  },
  {
   "cell_type": "markdown",
   "id": "18",
   "metadata": {},
   "source": [
    "---\n",
    "\n",
    "### Part III: Visualizing the Data\n",
    "\n",
    "Now that we have a proper `datetime` column, we can make a line plot.  \n",
    "This shows the \"shape\" of the data over time.  \n",
    "\n",
    "When reading a graph, pay attention to what increases or decreases actually mean. If you ignore the scale, something that looks dramatic may not be significant.  \n",
    "\n",
    "Below is the U.S. Environmental Protection Agency’s guide to interpreting AQI values, helpful context for the plot we’ll create.  \n",
    "\n",
    "<img src=\"epa_aqi_2.jpg\" width=\"550\"> \n",
    "\n",
    "Now let’s plot the AQI for the first few months of data.  \n"
   ]
  },
  {
   "cell_type": "code",
   "execution_count": null,
   "id": "19",
   "metadata": {},
   "outputs": [],
   "source": [
    "import seaborn as sns   # for nice-looking graphs\n",
    "import matplotlib.pyplot as plt   # for axis labels\n",
    "import matplotlib.dates as mdates   # for datetime formatting\n",
    "\n",
    "# ----- Formatting -----\n",
    "sns.set_theme(font_scale=.75)  # add grid lines and set font size\n",
    "\n",
    "# Format dates on the x-axis: show weekday (\"%a\") on one line,\n",
    "# make a new line (\"\\n\"), and then show month-day (\"%b-%d\").\n",
    "date_format = mdates.DateFormatter('%b-%d')\n",
    "plt.gca().xaxis.set_major_formatter(date_format)\n",
    "\n",
    "# ----- Plotting -----\n",
    "sns.lineplot(\n",
    "    data=aqi_data, \n",
    "    x='datetime', \n",
    "    y='AQI'\n",
    ")"
   ]
  },
  {
   "cell_type": "markdown",
   "id": "20",
   "metadata": {},
   "source": [
    "<div class=\"alert alert-success\">\n",
    "\n",
    "**Explore the new table above…**\n",
    "\n",
    "\n",
    "* What do you notice and wonder?\n",
    "\n",
    "\n",
    "    \n",
    "* What could have happened to create the pattern you see above?\n",
    "    \n",
    "    \n",
    "* There are many rises and falls in the data. What patterns in this graph would you consider to be \\\"signals\\\" worth taking seriously, and what might be \\\"noise\\\"? How are you making those decisions?"
   ]
  },
  {
   "cell_type": "markdown",
   "id": "21",
   "metadata": {},
   "source": [
    "You may have noticed a large spike in the graph on **July 4**. You can draw extra lines of the graph to help you hone in on what's going on. \n",
    "\n",
    "Below are two sets of code. One can be used to add a line representing a specific x-coordinate in the graph, representing a certain `datetime`. The other can be used to add a line representing a specific y-coordinate, representing a certain value of AQI. \n",
    "\n",
    "Use the code below to get comfortable adding lines to the plot above.\n",
    "\n",
    "```\n",
    "# Add a customized vertical line at x = Jul 8th\n",
    "plt.axvline(x=pd.to_datetime(\"2025-07-08 00:00:00\"), # draw the line at a specific date\n",
    "            color='red', # specify the color\n",
    "            label='My label') # Add a label for the legend\n",
    "\n",
    "\n",
    "# Add a horizontal line at y = 20\n",
    "plt.axhline(y=20,\n",
    "            color='red',\n",
    "            label='My label')\n",
    "```\n",
    "\n",
    "Now, use custom lines to explore an explanation of whats happening in the graph above based on what you know about July 4, West Oakland, and air quality. \n",
    "\n",
    "Could you highlight information that could help people better understand or make decisions about air quality in the future, based on your findings?"
   ]
  },
  {
   "cell_type": "markdown",
   "id": "22",
   "metadata": {},
   "source": [
    "**Summary:** You now know how to work with `datetime`, plot line graphs, add custom lines, and explore trends over time using a measure.  \n",
    "\n",
    "Now let’s apply these skills to a more interactive data investigation.  \n"
   ]
  },
  {
   "cell_type": "markdown",
   "id": "23",
   "metadata": {},
   "source": [
    "<hr style=\"border: 5px solid #003262;\" />\n",
    "\n",
    "# Getting Clear on Air Quality: An Investigation of Pollutants During San Francisco's Orange Skies Day."
   ]
  },
  {
   "cell_type": "markdown",
   "id": "24",
   "metadata": {},
   "source": [
    "On September 9, 2020, residents of the San Francisco Bay Area woke up to darkness and a sky glowing deep reddish orange.  \n",
    "<br/>\n",
    "This “Orange Skies Day” was caused by intense wildfires and weather conditions that trapped particulate matter high in the atmosphere, creating the dramatic effect.  \n"
   ]
  },
  {
   "cell_type": "markdown",
   "id": "25",
   "metadata": {},
   "source": [
    "<div style=\"display: flex; justify-content: space-around;\">\n",
    "<br/>\n",
    "\n",
    "<img src=\"bridge.jpg\" width=\"250\"> \n",
    "<br/>\n",
    "\n",
    "<img src=\"financial.jpg\" width=\"250\"> \n",
    "<br/>\n",
    "\n",
    "<img src=\"nature.jpg\" width=\"250\"> \n",
    "<br/>\n",
    "\n",
    "</div>\n",
    "<br/>"
   ]
  },
  {
   "cell_type": "markdown",
   "id": "26",
   "metadata": {},
   "source": [
    "In this activity, we’ll examine hourly air quality measurements from Richmond, CA (near San Francisco) taken between Sept 3 and Sept 17, 2020.  "
   ]
  },
  {
   "cell_type": "markdown",
   "id": "27",
   "metadata": {},
   "source": [
    "<hr style=\"border: 1px solid #fdb515;\" />\n",
    "\n",
    "## Part I: Loading the data\n",
    "\n",
    "First, let’s preview the dataset we’ll work with. \n",
    "\n",
    "👉 Before you run the next cell, take a moment to predict which attributes (columns) you expect to see.  \n"
   ]
  },
  {
   "cell_type": "code",
   "execution_count": null,
   "id": "28",
   "metadata": {},
   "outputs": [],
   "source": [
    "fire_data = pd.read_csv('sept2020.csv')\n",
    "\n",
    "fire_data # this will show the first 5 records and the last 5 records in the dataset."
   ]
  },
  {
   "cell_type": "markdown",
   "id": "29",
   "metadata": {},
   "source": [
    "<div class=\"alert alert-success\">\n",
    "\n",
    "* Were you in the Bay Area during the Orange Skies event? What do you remember?\n",
    "\n",
    "\n",
    "\n",
    "* What do you notice and wonder about the dataset above?  \n",
    "\n",
    "\n",
    "\n",
    "* What questions could you explore with this dataset?  \n",
    "\n",
    "\n",
    "\n",
    "* What extra information would help you interpret these readings?  \n",
    "\n",
    "\n"
   ]
  },
  {
   "cell_type": "markdown",
   "id": "30",
   "metadata": {},
   "source": [
    "Let’s look at some summary statistics to get a better sense of the data. We’ll use the `describe()` function, which you’ve seen before.  \n",
    "\n",
    "Since measurements for different pollutants are all stored in the same column, we can use `groupby` to treat them separately.  "
   ]
  },
  {
   "cell_type": "code",
   "execution_count": null,
   "id": "31",
   "metadata": {},
   "outputs": [],
   "source": [
    "# show summary statistics, but do it by the different pollutant groups.\n",
    "fire_data.groupby('pollutant').describe()"
   ]
  },
  {
   "cell_type": "markdown",
   "id": "32",
   "metadata": {},
   "source": [
    "<hr style=\"border: 1px solid #fdb515;\" />\n",
    "\n",
    "As you can see, different pollutants are measured on different scales. To know what’s meaningful, we need some context on how they are measured and what the U. S. Environmental Protection Agency considers safe.  \n",
    "\n",
    "Here are key details about the pollutants in this dataset, along with current EPA standards:  \n",
    "\n",
    "| Pollutant | Description | Health Impact | Sources | Recommended Levels (U.S. EPA) |\n",
    "| :--- | :--- | :--- | :--- | :--- |\n",
    "| **$PM_{2.5}$** | Small airborne particles like ash or black carbon. One $\\mu g/m^3$ is like a speck of fine dust inside a large moving box. | Can irritate the lungs and even enter the bloodstream, leading to other health issues. | Created by combustion sources like vehicles, power plants, and wildfires. | **0-9 $\\mu g/m^3$**: Good<br>**12.1-35.4 $\\mu g/m^3$**: Moderate<br>**35.5-55.4 $\\mu g/m^3$**: Unhealthy for Sensitive Groups<br>**>55.5 $\\mu g/m^3$**: Unhealthy for All |\n",
    "| **Ozone ($O_3$)** | A gas molecule that is natural in the upper atmosphere, but is a pollutant at ground level. | Causes respiratory problems, especially for children and individuals with asthma. | Created when pollutants (especially from motor vehicles) react with heat and sunlight. | **>0.071 ppm**: Marginal<br>**>0.081 ppm**: Moderate<br>**>0.093 ppm**: Serious |\n",
    "| **Carbon Monoxide ($CO$)** | A very small gas molecule that inhibits the blood's ability to transport oxygen. | At high levels, causes acute poisoning, loss of consciousness, and death. At low levels, can cause headaches, nausea, muscle pain, and cognitive impairment. | Motor vehicles and heating/cooking appliances in homes and businesses. | Harmful at **>9 ppm** (over 8 hours) or **>35 ppm** (over 1 hour). |"
   ]
  },
  {
   "cell_type": "markdown",
   "id": "33",
   "metadata": {},
   "source": [
    "### Part II: Visualizing the Data Over Time"
   ]
  },
  {
   "cell_type": "markdown",
   "id": "34",
   "metadata": {},
   "source": [
    "We’ll visualize pollutant concentrations with line plots for the days before, during, and after the September 2020 “Orange Skies” event."
   ]
  },
  {
   "cell_type": "markdown",
   "id": "35",
   "metadata": {},
   "source": [
    "<div class=\"alert alert-success\">\n",
    "\n",
    "**Before we create the line plot, consider:**\n",
    "\n",
    "* What do you expect the plot to look like?  \n",
    "\n",
    "\n"
   ]
  },
  {
   "cell_type": "code",
   "execution_count": null,
   "id": "36",
   "metadata": {},
   "outputs": [],
   "source": [
    "# Plot the three pollutants together.\n",
    "\n",
    "# Ensure we have a proper datetime column\n",
    "fire_data['datetime'] = pd.to_datetime(fire_data['datetime_local'])\n",
    "\n",
    "# ----- Formatting -----\n",
    "# Weekday on first line, month-day on second\n",
    "date_format = mdates.DateFormatter('%a\\n%b%d')\n",
    "plt.gca().xaxis.set_major_formatter(date_format)\n",
    "\n",
    "# Show a tick every 24 hours\n",
    "locator = mdates.HourLocator(interval=24)\n",
    "plt.gca().xaxis.set_major_locator(locator)\n",
    "\n",
    "# ----- Plot -----\n",
    "sns.lineplot(\n",
    "    data=fire_data,\n",
    "    x='datetime',\n",
    "    y='value',\n",
    "    hue='pollutant'\n",
    ")"
   ]
  },
  {
   "cell_type": "markdown",
   "id": "37",
   "metadata": {},
   "source": [
    "<div class=\"alert alert-success\">\n",
    "\n",
    "* Is this what you expected? Why or why not?  \n",
    "\n",
    "\n",
    "\n",
    "* What do you notice or wonder here?  \n",
    "\n",
    "\n",
    "\n",
    "* Which parts look like \"signal\" and which like \"noise\"?  \n",
    "\n",
    "\n",
    "\n",
    "* What more would help you understand how air quality changed during the \"Orange Skies\" event?  \n"
   ]
  },
  {
   "cell_type": "markdown",
   "id": "38",
   "metadata": {},
   "source": [
    "---\n",
    "\n",
    "### Part III: Visualizing Trends for Each Pollutant"
   ]
  },
  {
   "cell_type": "markdown",
   "id": "39",
   "metadata": {},
   "source": [
    "Since these pollutants are measured on very different scales, it’s helpful to view them separately.  \n",
    "\n",
    "Below, we’ll filter the data to show only **PM2.5** and create a line plot.  \n"
   ]
  },
  {
   "cell_type": "code",
   "execution_count": null,
   "id": "40",
   "metadata": {},
   "outputs": [],
   "source": [
    "# ----- Formatting -----\n",
    "# Show weekday on one line, month-day on the next\n",
    "date_format = mdates.DateFormatter('%a\\n%b%d')\n",
    "plt.gca().xaxis.set_major_formatter(date_format)\n",
    "\n",
    "# Show a tick every 48 hours\n",
    "locator = mdates.HourLocator(interval=24)\n",
    "plt.gca().xaxis.set_major_locator(locator)\n",
    "\n",
    "# ----- Filter to pollutant -----\n",
    "pollutant_data = fire_data[fire_data['pollutant'] == \"Carbon monoxide\"]\n",
    "\n",
    "# ----- Plot -----\n",
    "sns.lineplot(data=pollutant_data, x='datetime', y='value')\n"
   ]
  },
  {
   "cell_type": "markdown",
   "id": "41",
   "metadata": {},
   "source": [
    "What trends do you expect for the other pollutants?  \n",
    "\n",
    "👉 Edit the code above to explore `PM2.5`, `Ozone`, and `Carbon Monoxide` separately so each pattern is visible on an interpretable scale.\n"
   ]
  },
  {
   "cell_type": "markdown",
   "id": "42",
   "metadata": {},
   "source": [
    "<div class=\"alert alert-success\">\n",
    "\n",
    "* What new things did you notice when looking at the plots separately?  \n",
    "\n",
    "\n",
    "\n",
    "* What helped you make sense of each pollutant’s plot? What more would be useful?  \n",
    "\n",
    "\n",
    "\n",
    "* What questions do you still have?  \n",
    "\n",
    "\n"
   ]
  },
  {
   "cell_type": "markdown",
   "id": "43",
   "metadata": {},
   "source": [
    "---\n",
    "\n",
    "### Part IV: Looking Across Pollutants Simultaneously"
   ]
  },
  {
   "cell_type": "markdown",
   "id": "44",
   "metadata": {},
   "source": [
    "You may have noticed that not all pollutants rose or fell at the same time during the wildfires.  \n",
    "\n",
    "In time series analysis, it can be helpful to align multiple plots to compare values at the same point in time.  \n",
    "\n",
    "Below, we generate a plot with all three pollutants shown together.  \n"
   ]
  },
  {
   "cell_type": "code",
   "execution_count": null,
   "id": "45",
   "metadata": {},
   "outputs": [],
   "source": [
    "g = sns.FacetGrid(fire_data, \n",
    "                  row=\"pollutant\", \n",
    "                  aspect=4, # this makes graphs 4x wider than tall\n",
    "                  sharey=False) # treat the scale for each pollutant separately\n",
    "\n",
    "g.map(sns.lineplot, \"datetime\", \"value\")"
   ]
  },
  {
   "cell_type": "markdown",
   "id": "46",
   "metadata": {},
   "source": [
    "\n",
    "<div class=\"alert alert-success\">\n",
    "\n",
    "* Which patterns among the three graphs are worth discussing? Why? \n",
    "\n",
    "\n",
    "\n",
    "* If you had to tell the story of air quality during these weeks, what story would you tell?  \n",
    "\n",
    "\n",
    "\n",
    "* Do you see anything interesting with Ozone? Why or why not?  \n",
    "\n",
    "\n",
    "\n",
    "* There’s a dip in PM2.5 between 9/11 and 9/20, but not in CO. Why might this be? Is it worth attention?  \n",
    "\n",
    "\n",
    "\n",
    "* What new questions do these graphs raise for you?  \n",
    "\n",
    "\n"
   ]
  },
  {
   "cell_type": "markdown",
   "id": "47",
   "metadata": {},
   "source": [
    "Like previous plots, you may want to draw some custom lines here to help you interpret what's going on. Since this is a grid of multiple plots, the code will be a little different. \n",
    "\n",
    "Using the code examples below as a resource, try to develop a story that describes what happened to the air quality during \"Orange Skies Day\", and the risks it posed for people living in the Bay Area at the time.\n",
    "\n",
    "To draw a vertical line highlighting a `datetime`, use the code below:\n",
    "\n",
    "```\n",
    "g.map(plt.axvline, \n",
    "      x=pd.to_datetime(\"2020-09-07 00:00:00\"), \n",
    "      color='red') #use label=\"xxx\" to add a label\n",
    "```\n",
    "\n",
    "To draw a horizontal line highlighting a value on one of the plots, use the code below:\n",
    "\n",
    "```\n",
    "# First, identify which plot to draw the line on.\n",
    "# The plots are organized in a grid, so you need to\n",
    "# specify the position of the plot to change. The code\n",
    "# below changes the top plot. \n",
    "target_ax = g.axes[0, 0] #[0,1] would change the second plot, etc.\n",
    "\n",
    "# 3. Add a horizontal line ONLY to that specific plot\n",
    "target_ax.axhline(y=1,\n",
    "                  color='red') #label=\"xxx\" to add a label"
   ]
  },
  {
   "cell_type": "markdown",
   "id": "48",
   "metadata": {},
   "source": [
    "One interesting thing you may have noticed is that although the Orange Skies were dramatically visible the morning of September 9, the air quality did not become poor until later in the day.\n",
    "\n",
    "[This article from Berkeleyside](https://www.berkeleyside.org/2020/09/08/wildfires-berkeley-sky-smoke-ash-red-sun) contains a brief explanation of why this happened."
   ]
  },
  {
   "cell_type": "markdown",
   "id": "49",
   "metadata": {},
   "source": [
    "<hr style=\"border: 1px solid #fdb515;\" />"
   ]
  },
  {
   "cell_type": "markdown",
   "id": "50",
   "metadata": {},
   "source": [
    "## In the Classroom\n",
    "\n",
    "This notebook models a core scientific activity: observing, processing, and visualizing time series data to find patterns.  \n",
    "\n",
    "**Where else do we see time series?**  \n",
    "\n",
    "The skills you just practiced, creating `datetime` objects and plotting line graphs, are foundational for analyzing any data with a time component.  \n",
    "\n",
    "Think about how you could apply this same \"bundle\" of skills in other areas:  \n",
    "\n",
    "* **Ecology:** Track predator and prey populations over decades to see cycles.  \n",
    "\n",
    "* **Social Studies / History:** Plot immigration rates, GDP, or census data to analyze trends.  \n",
    "\n",
    "* **Finance:** Analyze a company’s stock price over a year to identify volatility.  \n",
    "\n",
    "* **School Improvement:** Plot daily attendance to spot weeks with low participation.  \n",
    "\n",
    "👉 Any time you ask a question involving **“over time,”** these tools and concepts are a strong place to start.  \n",
    "\n",
    "❓ What other air quality events or patterns might be worth exploring?  "
   ]
  },
  {
   "cell_type": "markdown",
   "id": "51",
   "metadata": {},
   "source": [
    "---"
   ]
  },
  {
   "cell_type": "markdown",
   "id": "52",
   "metadata": {},
   "source": [
    "Credit\n",
    "<br/>\n",
    "\n",
    "North Complex smoke in San Francisco - Bay Bridge and Financial District.jpg  North Complex smoke in San Francisco - Financial District.jpg by Christopher Michel / Wikipedia / CC-BY-2.0.\n",
    "<br/>\n",
    "\n",
    "Observing the Orange Sky in San Francisco, California, USA, September 9, 2020.jpg by Semiautonomous / Wikipedia / CC-BY-SA-4.0.\n",
    "<br/>"
   ]
  },
  {
   "cell_type": "code",
   "execution_count": null,
   "id": "53",
   "metadata": {},
   "outputs": [],
   "source": []
  }
 ],
 "metadata": {
  "kernelspec": {
   "display_name": "Python 3 (ipykernel)",
   "language": "python",
   "name": "python3"
  },
  "language_info": {
   "codemirror_mode": {
    "name": "ipython",
    "version": 3
   },
   "file_extension": ".py",
   "mimetype": "text/x-python",
   "name": "python",
   "nbconvert_exporter": "python",
   "pygments_lexer": "ipython3",
   "version": "3.11.13"
  }
 },
 "nbformat": 4,
 "nbformat_minor": 5
}
