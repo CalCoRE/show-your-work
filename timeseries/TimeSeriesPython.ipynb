{
 "cells": [
  {
   "cell_type": "markdown",
   "id": "f55d267b-7ed9-4e72-b4ec-67f7213dc238",
   "metadata": {},
   "source": [
    "# Seeing Change Over Time: An Introduction to Time Series Analysis\n",
    "\n",
    "<div class=\"alert alert-info\">\n",
    "\n",
    "Welcome back! This activity is part of an introduction to computational notebooks, designed specifically for K-12 educators.\n",
    "                                                                                                         \n",
    "Here, we'll dive into a specific, powerful type of analysis: **exploring data that changes over time**. This is called **time series analysis**.\n",
    "\n",
    "</div>\n",
    "<br/>\n",
    "\n",
    "Data that unfolds over time is everywhere: daily temperature, stock market prices, student attendance, historical events, and ecological changes.\n",
    "<br/>"
   ]
  },
  {
   "cell_type": "markdown",
   "id": "df8a0de4",
   "metadata": {},
   "source": [
    "<hr style=\"border: 5px solid #003262;\" />"
   ]
  },
  {
   "cell_type": "markdown",
   "id": "18ae8471-2506-44ea-8679-5bcd5c8a12ea",
   "metadata": {},
   "source": [
    "## Key Ideas in Time Series Analysis\n",
    "<br/>\n",
    "\n",
    "To explore some of the key ideas related to the code, math, and science of time series analysis, in this notebook we will be exploring **air quality data**.\n",
    "\n",
    "\n",
    "**Our Learning Goals:**\n",
    "\n",
    "* ⏰ **Handling Dates and Times:** Learn to create and use `datetime` objects for organizing data and handling tricky cases like leap years.  \n",
    "\n",
    "* 📈 **Visualizing Trends:** Use `lineplot` to reveal patterns and create clear, accurate line plots.  \n",
    "\n",
    "* 📊 **Statistics/Data:** Identify trends and cycles in time series, and separate real signals from random noise.  \n",
    "\n",
    "* 🌍 **Content:** Explore how air quality is measured and uncover patterns linked to real-world events and behaviors.  \n",
    "\n",
    "\n"
   ]
  },
  {
   "cell_type": "markdown",
   "id": "432d9dd4-90fa-4a01-85f1-274ac4bd3225",
   "metadata": {},
   "source": [
    "<hr style=\"border: 1px solid #fdb515;\" />\n",
    "\n",
    "## Introducing Some Key Ideas\n",
    "\n",
    "We'll start with a quick intro to the foundations of time series data by looking at hourly air quality measurements.  \n",
    "\n",
    "Our focus is the **Air Quality Index (AQI)**, a measure widely used by health and government agencies to communicate air safety. AQI combines several pollutants into a single score that reflects whether the air is safe to breathe.  \n",
    "\n",
    "The data we'll explore comes from an air quality monitoring station in **West Oakland, California**.  "
   ]
  },
  {
   "cell_type": "markdown",
   "id": "c4cec45e-14f7-4e08-8501-f27fa0348912",
   "metadata": {},
   "source": [
    "\n",
    "---\n",
    "\n",
    "### Part I: Loading the Data"
   ]
  },
  {
   "cell_type": "markdown",
   "id": "25b2ee04-a77d-436c-b1c7-3ae7275659c8",
   "metadata": {},
   "source": [
    "We're going to load a dataset of hourly AQI readings from one week at a West Oakland monitoring station.  \n",
    "\n",
    "The data comes from the Bay Area Air Quality Management District, which monitors and reports on air quality across the Bay Area.  \n"
   ]
  },
  {
   "cell_type": "code",
   "execution_count": null,
   "id": "d5e102e5-11a9-48bf-80e7-1bdd7a81f4d3",
   "metadata": {},
   "outputs": [],
   "source": [
    "import pandas as pd # pandas is for making data tables\n",
    "\n",
    "aqi_data = pd.read_csv('baaqmd_data.csv') # read the data\n",
    "\n",
    "aqi_data.head() # show the first 5 rows of data"
   ]
  },
  {
   "cell_type": "markdown",
   "id": "c7a862ab-d0bb-4538-ad69-021531072e1f",
   "metadata": {},
   "source": [
    "<div class=\"alert alert-success\">\n",
    "\n",
    "**Considering the data above…**\n",
    "\n",
    "* What do you notice and wonder about this dataset?  \n",
    "\n",
    "* What questions could you explore further?  "
   ]
  },
  {
   "cell_type": "markdown",
   "id": "8be8155a-ab8b-4ca6-9311-5939956e4aff",
   "metadata": {},
   "source": [
    "We'll use this dataset to practice coding and creating visualizations for time series analysis.  \n",
    "<br/>\n",
    "Remember: good documentation explains the **why** (in text) and the \n",
    "**how** (in `# code comments`).  \n"
   ]
  },
  {
   "cell_type": "markdown",
   "id": "c76436be-5ec1-4379-8298-33cea8c41acb",
   "metadata": {},
   "source": [
    "\n",
    "---\n",
    "\n",
    "### Part II: Working with `datetime`"
   ]
  },
  {
   "cell_type": "markdown",
   "id": "3d136f6b-0b93-47a9-865d-abfaeeb4c82f",
   "metadata": {},
   "source": [
    "You may have noticed that the month, day, year, and hour of each AQI record are stored in separate columns. If we tried to graph the data this way, we couldn’t place \"time\" correctly on the x-axis.  \n",
    "\n",
    "To fix this, we’ll combine them into a single `datetime`, a special format computers use to organize time.  \n"
   ]
  },
  {
   "cell_type": "markdown",
   "id": "37fd7d82-e681-47e5-a3fe-5a00f93a49c2",
   "metadata": {},
   "source": [
    "Let’s look at a quick example with one date, then apply the same process to all AQI records.  \n",
    "\n",
    "👉 Try replacing the code below with a date that’s special to you!  \n"
   ]
  },
  {
   "cell_type": "code",
   "execution_count": null,
   "id": "998ce9fc-cfae-49fc-85aa-21c08d34789c",
   "metadata": {},
   "outputs": [],
   "source": [
    "# often, datasets express date and time separately. \n",
    "# we will practice with a single, split up date\n",
    "year = 2025 # a number format\n",
    "month = 9\n",
    "day = 9\n",
    "time = \"17:53\" # a string/text format\n",
    "\n",
    "# let's split the time up into hours and minutes\n",
    "# the line below makes the values before ':' go to hours\n",
    "# and the values after ':' go to minutes\n",
    "hours, minutes = time.split(':')\n",
    "\n",
    "# first, we put these together into a common date format \n",
    "consolidated = str(month) + \"-\" + str(day) + \"-\" + str(year) + \" \" + str(hours) + \":\" + str (minutes)\n",
    "consolidated # show the text string we made"
   ]
  },
  {
   "cell_type": "markdown",
   "id": "44fd891e-511b-4290-8f3b-17d1518e8d01",
   "metadata": {},
   "source": [
    "Now, we want to take the combined date and convert it to the `datetime` object. \n",
    "\n",
    "Making something an \"object\" means the computer recognizes it as something (like a date) that can be treated in special ways (like adding hours or days to it), rather than just text."
   ]
  },
  {
   "cell_type": "code",
   "execution_count": null,
   "id": "311fb94b-4bf4-469b-a7a1-446d4c77e71d",
   "metadata": {},
   "outputs": [],
   "source": [
    "# if a text string uses a common date format, the to_datetime\n",
    "# function will automatically read and convert it to a\n",
    "# datetime. \n",
    "\n",
    "pd.to_datetime(consolidated)"
   ]
  },
  {
   "cell_type": "markdown",
   "id": "063617ef-a395-476a-b497-980f1a9ddfdb",
   "metadata": {},
   "source": [
    "After using `to_datetime`, the date is the same but it is represented slightly differently as a \"Timestamp.\" The computer now recognizes it as a special object representing time. \n",
    "\n",
    "Below, we’ll repeat this process for the entire air quality dataset. \n",
    "\n",
    "Earlier, we tried it with just one date. This time, the code looks a bit different because it applies to *all* the records in `aqi_data`.  "
   ]
  },
  {
   "cell_type": "code",
   "execution_count": null,
   "id": "24e0b268-1708-420e-840f-4ea133787cb2",
   "metadata": {},
   "outputs": [],
   "source": [
    "# Each record has Month, Day, Year, and Time.\n",
    "# First, split the Time into Hours and Minutes.\n",
    "\n",
    "# Make new columns \"Hours\" and \"Minutes\" by splitting the \"Time\" column.\n",
    "aqi_data[['Hours', 'Minutes']] = aqi_data['Time'].str.split(':', expand=True).astype(int)\n",
    "\n",
    "# Collect the parts of each date (year, month, day, hour, minute).\n",
    "datetime_info = {\n",
    "    'year': aqi_data['Year'],\n",
    "    'month': aqi_data['Month'],\n",
    "    'day': aqi_data['Day'],\n",
    "    'hour': aqi_data['Hours'],\n",
    "    'minute': aqi_data['Minutes']\n",
    "}\n",
    "\n",
    "# Convert to a single datetime and save it in a new column.\n",
    "aqi_data['datetime'] = pd.to_datetime(datetime_info)\n",
    "\n",
    "# Show the dataset with the new datetime column.\n",
    "aqi_data"
   ]
  },
  {
   "cell_type": "markdown",
   "id": "fb7618a6-06b5-4010-9a92-8b7264eca00d",
   "metadata": {},
   "source": [
    "<div class=\"alert alert-success\">\n",
    "\n",
    "**Explore the new table above…**\n",
    "\n",
    "* How might the new `datetime` column help with analysis?  \n",
    "\n",
    "    \n",
    "* What questions do you still have about what we’ve done here?  \n",
    "\n",
    "\n"
   ]
  },
  {
   "cell_type": "markdown",
   "id": "b6c197be-8954-47ba-b764-1b5ea30f9693",
   "metadata": {},
   "source": [
    "---\n",
    "\n",
    "### Part III: Visualizing the Data\n",
    "\n",
    "Now that we have a proper `datetime` column, we can make a line plot.  \n",
    "This shows the \"shape\" of the data over time.  \n",
    "\n",
    "When reading a graph, pay attention to what increases or decreases actually mean. If you ignore the scale, something that looks dramatic may not be significant.  \n",
    "\n",
    "Below is the U.S. Environmental Protection Agency’s guide to interpreting AQI values, helpful context for the plot we’ll create.  \n",
    "\n",
    "<img src=\"epa_aqi_2.jpg\" width=\"550\"> \n",
    "\n",
    "Now let’s plot the AQI for the first few months of data.  \n"
   ]
  },
  {
   "cell_type": "code",
   "execution_count": null,
   "id": "26eda8ad-a3af-4e2b-a4d2-e9f1887fa952",
   "metadata": {},
   "outputs": [],
   "source": [
    "import seaborn as sns   # for nice-looking graphs\n",
    "import matplotlib.pyplot as plt   # for axis labels\n",
    "import matplotlib.dates as mdates   # for datetime formatting\n",
    "\n",
    "# ----- Formatting -----\n",
    "sns.set_theme(font_scale=.75)  # add grid lines and set font size\n",
    "\n",
    "# Format dates on the x-axis: show weekday (\"%a\") on one line,\n",
    "# make a new line (\"\\n\"), and then show month-day (\"%b-%d\").\n",
    "date_format = mdates.DateFormatter('%a\\n%b-%d')\n",
    "plt.gca().xaxis.set_major_formatter(date_format)\n",
    "\n",
    "# ----- Plotting -----\n",
    "sns.lineplot(\n",
    "    data=aqi_data, \n",
    "    x='datetime', \n",
    "    y='AQI'\n",
    ")"
   ]
  },
  {
   "cell_type": "markdown",
   "id": "971dcfa5-6345-4cfc-b334-568890a8016e",
   "metadata": {},
   "source": [
    "<div class=\"alert alert-success\">\n",
    "\n",
    "**Explore the new table above…**\n",
    "\n",
    "* How might the new `datetime` column help with analysis?  \n",
    "\n",
    "    \n",
    "* What questions do you still have about what we’ve done here?  \n",
    "\n"
   ]
  },
  {
   "cell_type": "markdown",
   "id": "fda7fbe2-c1a1-4741-8235-628f4c4579d5",
   "metadata": {},
   "source": [
    "**Summary:** You now know how to work with `datetime`, plot line graphs, and explore trends over time using a measure.  \n",
    "\n",
    "Now let’s apply these skills to a more interactive data investigation.  \n"
   ]
  },
  {
   "cell_type": "markdown",
   "id": "fb2d6d7a-ffee-4b13-ac5b-33a4cc5553f0",
   "metadata": {},
   "source": [
    "<hr style=\"border: 5px solid #003262;\" />\n",
    "\n",
    "# Getting Clear on Air Quality: An Investigation of Pollutants During San Francisco's Orange Skies Day."
   ]
  },
  {
   "cell_type": "markdown",
   "id": "ae587453-a4c0-421d-8a32-dbd1ee2fef77",
   "metadata": {},
   "source": [
    "On September 9, 2020, residents of the San Francisco Bay Area woke up to a sky glowing deep orange.  \n",
    "<br/>\n",
    "This “Orange Skies Day” was caused by intense wildfires and weather conditions that trapped particulate matter high in the atmosphere, creating the dramatic effect.  \n"
   ]
  },
  {
   "cell_type": "markdown",
   "id": "37b89c3a-f3c2-4d14-9eaf-f78416949251",
   "metadata": {},
   "source": [
    "<div style=\"display: flex; justify-content: space-around;\">\n",
    "<br/>\n",
    "\n",
    "<img src=\"bridge.jpg\" width=\"250\"> \n",
    "<br/>\n",
    "\n",
    "<img src=\"financial.jpg\" width=\"250\"> \n",
    "<br/>\n",
    "\n",
    "<img src=\"nature.jpg\" width=\"250\"> \n",
    "<br/>\n",
    "\n",
    "</div>\n",
    "<br/>"
   ]
  },
  {
   "cell_type": "markdown",
   "id": "e51cfbb2-e4c8-4a19-a709-86a9048b3030",
   "metadata": {},
   "source": [
    "In this activity, we’ll examine hourly air quality measurements from Richmond, CA (near San Francisco) taken between Sept 3 and Sept 17, 2020.  "
   ]
  },
  {
   "cell_type": "markdown",
   "id": "ae61d38f-a663-4732-b5a7-0b4ad68619f7",
   "metadata": {},
   "source": [
    "<hr style=\"border: 1px solid #fdb515;\" />\n",
    "\n",
    "## Part I: Loading the data\n",
    "\n",
    "First, let’s preview the dataset we’ll work with. \n",
    "\n",
    "👉 Before you run the next cell, take a moment to predict which attributes (columns) you expect to see.  \n"
   ]
  },
  {
   "cell_type": "code",
   "execution_count": null,
   "id": "757ab8fa-1bd6-4729-ac2b-0d333e88c57e",
   "metadata": {},
   "outputs": [],
   "source": [
    "fire_data = pd.read_csv('sept2020.csv')\n",
    "\n",
    "fire_data # this will show the first 5 records and the last 5 records in the dataset."
   ]
  },
  {
   "cell_type": "markdown",
   "id": "93b87afc-78dd-4e1c-b118-e34aa97be8b7",
   "metadata": {},
   "source": [
    "<div class=\"alert alert-success\">\n",
    "\n",
    "* What do you notice and wonder about the dataset above?  \n",
    "\n",
    "\n",
    "\n",
    "* What questions could you explore with this dataset?  \n",
    "\n",
    "\n",
    "\n",
    "* What extra information would help you interpret these readings?  \n",
    "\n",
    "\n"
   ]
  },
  {
   "cell_type": "markdown",
   "id": "950c4b58-07e9-4ea4-8cfd-5c223caa0380",
   "metadata": {},
   "source": [
    "Let’s look at some summary statistics to get a better sense of the data. We’ll use the `describe()` function, which you’ve seen before.  \n",
    "\n",
    "Since measurements for different pollutants are all stored in the same column, we can use `groupby` to treat them separately.  "
   ]
  },
  {
   "cell_type": "code",
   "execution_count": null,
   "id": "84d316a9-d379-4612-9601-d222ec2e2abe",
   "metadata": {},
   "outputs": [],
   "source": [
    "# show summary statistics, but do it by the different pollutant groups.\n",
    "fire_data.groupby('pollutant').describe()"
   ]
  },
  {
   "cell_type": "markdown",
   "id": "28c75c29-ef8c-4f94-afbc-cb871a04354a",
   "metadata": {},
   "source": [
    "<hr style=\"border: 1px solid #fdb515;\" />\n",
    "\n",
    "As you can see, different pollutants are measured on different scales. To know what’s meaningful, we need some context on how they are measured and what the U. S. Environmental Protection Agency considers safe.  \n",
    "\n",
    "Here are key details about the pollutants in this dataset, along with current EPA standards:  \n",
    "\n",
    "| Pollutant | Description | Health Impact | Sources | Recommended Levels (U.S. EPA) |\n",
    "| :--- | :--- | :--- | :--- | :--- |\n",
    "| **$PM_{2.5}$** | Small airborne particles like ash or black carbon. One $\\mu g/m^3$ is like a speck of fine dust inside a large moving box. | Can irritate the lungs and even enter the bloodstream, leading to other health issues. | Created by combustion sources like vehicles, power plants, and wildfires. | **0-9 $\\mu g/m^3$**: Good<br>**12.1-35.4 $\\mu g/m^3$**: Moderate<br>**35.5-55.4 $\\mu g/m^3$**: Unhealthy for Sensitive Groups<br>**>55.5 $\\mu g/m^3$**: Unhealthy for All |\n",
    "| **Ozone ($O_3$)** | A gas molecule that is natural in the upper atmosphere, but is a pollutant at ground level. | Causes respiratory problems, especially for children and individuals with asthma. | Created when pollutants (especially from motor vehicles) react with heat and sunlight. | **>0.071 ppm**: Marginal<br>**>0.081 ppm**: Moderate<br>**>0.093 ppm**: Serious |\n",
    "| **Carbon Monoxide ($CO$)** | A very small gas molecule that inhibits the blood's ability to transport oxygen. | At high levels, causes acute poisoning, loss of consciousness, and death. At low levels, can cause headaches, nausea, muscle pain, and cognitive impairment. | Motor vehicles and heating/cooking appliances in homes and businesses. | Harmful at **>9 ppm** (over 8 hours) or **>35 ppm** (over 1 hour). |"
   ]
  },
  {
   "cell_type": "markdown",
   "id": "f212a688-fe04-4cca-b4ed-4bca1edd9f45",
   "metadata": {},
   "source": [
    "### Part II: Visualizing the Data Over Time"
   ]
  },
  {
   "cell_type": "markdown",
   "id": "407a8e89-9578-407a-9ceb-c1c58848ceef",
   "metadata": {},
   "source": [
    "We’ll visualize pollutant concentrations with line plots for the days before, during, and after the September 2020 “Orange Skies” event."
   ]
  },
  {
   "cell_type": "markdown",
   "id": "4c2a18f9-5dbf-4e18-8085-bfc9995a8d5f",
   "metadata": {},
   "source": [
    "<div class=\"alert alert-success\">\n",
    "\n",
    "**Before we create the line plot, consider:**\n",
    "\n",
    "* What do you expect the plot to look like?  \n",
    "\n",
    "\n"
   ]
  },
  {
   "cell_type": "code",
   "execution_count": null,
   "id": "e9e9ea24-9410-44ed-8eea-9fca4fc0d34b",
   "metadata": {},
   "outputs": [],
   "source": [
    "# Plot the three pollutants together.\n",
    "\n",
    "# Ensure we have a proper datetime column\n",
    "fire_data['datetime'] = pd.to_datetime(fire_data['datetime_local'])\n",
    "\n",
    "# ----- Formatting -----\n",
    "# Weekday on first line, month-day on second\n",
    "date_format = mdates.DateFormatter('%a\\n%b%d')\n",
    "plt.gca().xaxis.set_major_formatter(date_format)\n",
    "\n",
    "# Show a tick every 24 hours\n",
    "locator = mdates.HourLocator(interval=24)\n",
    "plt.gca().xaxis.set_major_locator(locator)\n",
    "\n",
    "# ----- Plot -----\n",
    "sns.lineplot(\n",
    "    data=fire_data,\n",
    "    x='datetime',\n",
    "    y='value',\n",
    "    hue='pollutant'\n",
    ")"
   ]
  },
  {
   "cell_type": "markdown",
   "id": "e3b1e6aa-a0aa-4d2a-ae67-8e39eefa83f6",
   "metadata": {},
   "source": [
    "<div class=\"alert alert-success\">\n",
    "\n",
    "* Is this what you expected? Why or why not?  \n",
    "\n",
    "\n",
    "\n",
    "* What do you notice or wonder here?  \n",
    "\n",
    "\n",
    "\n",
    "* Which parts look like \"signal\" and which like \"noise\"?  \n",
    "\n",
    "\n",
    "\n",
    "* What more would help you understand how air quality changed during the \"Orange Skies\" event?  \n"
   ]
  },
  {
   "cell_type": "markdown",
   "id": "69a3ee81-ec4e-4c44-a51f-6d9710eb9a07",
   "metadata": {},
   "source": [
    "---\n",
    "\n",
    "### Part III: Visualizing Trends for Each Pollutant"
   ]
  },
  {
   "cell_type": "markdown",
   "id": "d889351a-f93f-4dc8-abe1-1b4a74533934",
   "metadata": {},
   "source": [
    "Since these pollutants are measured on very different scales, it’s helpful to view them separately.  \n",
    "\n",
    "Below, we’ll filter the data to show only **PM2.5** and create a line plot.  \n"
   ]
  },
  {
   "cell_type": "code",
   "execution_count": null,
   "id": "fd592f4a-7c48-4691-b159-1086b8524d6e",
   "metadata": {},
   "outputs": [],
   "source": [
    "# ----- Formatting -----\n",
    "# Show weekday on one line, month-day on the next\n",
    "date_format = mdates.DateFormatter('%a\\n%b%d')\n",
    "plt.gca().xaxis.set_major_formatter(date_format)\n",
    "\n",
    "# Show a tick every 48 hours\n",
    "locator = mdates.HourLocator(interval=24)\n",
    "plt.gca().xaxis.set_major_locator(locator)\n",
    "\n",
    "# ----- Filter to pollutant -----\n",
    "pollutant_data = fire_data[fire_data['pollutant'] == \"PM2.5\"]\n",
    "\n",
    "# ----- Plot -----\n",
    "sns.lineplot(data=pollutant_data, x='datetime', y='value')\n"
   ]
  },
  {
   "cell_type": "markdown",
   "id": "791ea0b1-31dc-4099-8af4-4c0e80a32230",
   "metadata": {},
   "source": [
    "What trends do you expect for the other pollutants?  \n",
    "\n",
    "👉 Edit the code above to explore `PM2.5`, `Ozone`, and `Carbon Monoxide` separately so each pattern is visible on an interpretable scale.\n"
   ]
  },
  {
   "cell_type": "markdown",
   "id": "82eb9f3d-e345-4594-a3a8-f177f8291c3d",
   "metadata": {},
   "source": [
    "<div class=\"alert alert-success\">\n",
    "\n",
    "* What new things did you notice when looking at the plots separately?  \n",
    "\n",
    "\n",
    "\n",
    "* What helped you make sense of each pollutant’s plot? What more would be useful?  \n",
    "\n",
    "\n",
    "\n",
    "* What questions do you still have?  \n",
    "\n",
    "\n"
   ]
  },
  {
   "cell_type": "markdown",
   "id": "373a9b82-887b-4b45-a523-1d9237c83b73",
   "metadata": {},
   "source": [
    "---\n",
    "\n",
    "### Part IV: Looking Across Pollutants Simultaneously"
   ]
  },
  {
   "cell_type": "markdown",
   "id": "0e75736d-1f1f-4b92-a096-c116fe885e08",
   "metadata": {},
   "source": [
    "You may have noticed that not all pollutants rose or fell at the same time during the wildfires.  \n",
    "\n",
    "In time series analysis, it can be helpful to align multiple plots to compare values at the same point in time.  \n",
    "\n",
    "Below, we generate a plot with all three pollutants shown together.  \n"
   ]
  },
  {
   "cell_type": "code",
   "execution_count": null,
   "id": "f666d2ce-82fb-4858-964f-ddeeb7f8a0d7",
   "metadata": {},
   "outputs": [],
   "source": [
    "g = sns.FacetGrid(fire_data, \n",
    "                  row=\"pollutant\", \n",
    "                  aspect=4, # this makes the graphs 4x wider than they are tall\n",
    "                  sharey=False) # this treats the scale for each pollutant separately\n",
    "\n",
    "g.map(sns.lineplot, \"datetime\", \"value\")"
   ]
  },
  {
   "cell_type": "markdown",
   "id": "4f509b88-e409-477f-af11-75167400b0af",
   "metadata": {},
   "source": [
    "<div class=\"alert alert-success\">\n",
    "\n",
    "* Which patterns among the three graphs are worth discussing? Why? \n",
    "\n",
    "\n",
    "\n",
    "* If you had to tell the story of air quality during these weeks, what story would you tell?  \n",
    "\n",
    "\n",
    "\n",
    "* Do you see anything interesting with Ozone? Why or why not?  \n",
    "\n",
    "\n",
    "\n",
    "* There’s a dip in PM2.5 between 9/11 and 9/20, but not in CO. Why might this be? Is it worth attention?  \n",
    "\n",
    "\n",
    "\n",
    "* What new questions do these graphs raise for you?  \n",
    "\n",
    "\n"
   ]
  },
  {
   "cell_type": "markdown",
   "id": "13772dbc-2696-4946-9188-3ca3be985d1b",
   "metadata": {},
   "source": [
    "<hr style=\"border: 1px solid #fdb515;\" />"
   ]
  },
  {
   "cell_type": "markdown",
   "id": "cf8874b9-cf68-48ec-b259-5e298d8b047e",
   "metadata": {},
   "source": [
    "## In the Classroom\n",
    "\n",
    "This notebook models a core scientific activity: observing, processing, and visualizing time series data to find patterns.  \n",
    "\n",
    "**How to Use This in a Lesson:**  \n",
    "\n",
    "* **Science:** In Earth or Environmental Science, students could explore real-world pollution data. \n",
    "    \n",
    "  👉 Example questions: *Are pollution levels higher at certain times of day? In certain seasons?* Students could modify the code to filter for different time periods.  \n",
    "\n",
    "* **Math:** In a statistics or data analysis unit, focus on the visualization itself.  \n",
    "\n",
    "  👉 Why is a line graph appropriate? What does a sharp spike represent? Which rises and falls are meaningful signals, and which are just noise?  \n",
    "\n",
    "❓ What other air quality events or patterns might be worth exploring?  "
   ]
  },
  {
   "cell_type": "markdown",
   "id": "aeab2961-8b95-404d-9f2a-ffda4fea641a",
   "metadata": {},
   "source": [
    "# Where Else Do We See Time Series?\n",
    "\n",
    "The skills you just practiced, creating `datetime` objects and plotting line graphs, are foundational for analyzing any data with a time component.  \n",
    "\n",
    "Think about how you could apply this same \"bundle\" of skills in other areas:  \n",
    "\n",
    "* **Ecology:** Track predator and prey populations over decades to see cycles.  \n",
    "\n",
    "* **Social Studies / History:** Plot immigration rates, GDP, or census data to analyze trends.  \n",
    "\n",
    "* **Finance:** Analyze a company’s stock price over a year to identify volatility.  \n",
    "\n",
    "* **School Improvement:** Plot daily attendance to spot weeks with low participation.  \n",
    "\n",
    "👉 Any time you ask a question involving **“over time,”** these tools and concepts are a strong place to start.  \n"
   ]
  },
  {
   "cell_type": "markdown",
   "id": "f733b5b8",
   "metadata": {},
   "source": [
    "---"
   ]
  },
  {
   "cell_type": "markdown",
   "id": "fd1012a6-5a4b-46ad-86ba-2540db88f8f1",
   "metadata": {},
   "source": [
    "Credit\n",
    "<br/>\n",
    "\n",
    "North Complex smoke in San Francisco - Bay Bridge and Financial District.jpg  North Complex smoke in San Francisco - Financial District.jpg by Christopher Michel / Wikipedia / CC-BY-2.0.\n",
    "<br/>\n",
    "\n",
    "Observing the Orange Sky in San Francisco, California, USA, September 9, 2020.jpg by Semiautonomous / Wikipedia / CC-BY-SA-4.0.\n",
    "<br/>"
   ]
  },
  {
   "cell_type": "code",
   "execution_count": null,
   "id": "9980e5b6-16b3-4d07-880c-c101ee0ad17a",
   "metadata": {},
   "outputs": [],
   "source": []
  }
 ],
 "metadata": {
  "kernelspec": {
   "display_name": "Python 3 (ipykernel)",
   "language": "python",
   "name": "python3"
  },
  "language_info": {
   "codemirror_mode": {
    "name": "ipython",
    "version": 3
   },
   "file_extension": ".py",
   "mimetype": "text/x-python",
   "name": "python",
   "nbconvert_exporter": "python",
   "pygments_lexer": "ipython3",
   "version": "3.11.13"
  }
 },
 "nbformat": 4,
 "nbformat_minor": 5
}
