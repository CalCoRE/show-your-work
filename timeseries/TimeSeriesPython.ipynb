{
 "cells": [
  {
   "cell_type": "markdown",
   "id": "f55d267b-7ed9-4e72-b4ec-67f7213dc238",
   "metadata": {},
   "source": [
    "# Seeing Change Over Time: An Introduction to Time Series Analysis\n",
    "\n",
    "<div class=\"alert alert-info\">\n",
    "\n",
    "Welcome back! This activity is part of an introduction to computational notebooks, designed specifically for K-12 educators. Here, we'll dive into a specific, powerful type of analysis: exploring data that changes over time. This is called **time series analysis**.\n",
    "\n",
    "</div>\n",
    "\n",
    "Data that unfolds over time is everywhere: daily temperature, stock market prices, student attendance, historical events, and ecological changes. \n",
    "    "
   ]
  },
  {
   "cell_type": "markdown",
   "id": "18ae8471-2506-44ea-8679-5bcd5c8a12ea",
   "metadata": {},
   "source": [
    "## Key Ideas in Time Series Analysis\n",
    "\n",
    "To explore some of the key ideas related to the code, math, and science of time series analysis, in this notebook we will be exploring **air quality data**.\n",
    "\n",
    "**Our Learning Goals:**\n",
    "* **Handling Dates and Times:** Time is a special kind of data that can be tricky to work with. Computational notebooks have specialized tools to handle things like leap years, and to calculate the duration between two dates or times. In this activity you will learn how to combine columns to create a `datetime` object, and how to use `datetime` objects to organize your analysis.\n",
    "* **Visualizing Trends:** A line plot is a powerful tool for seeing patterns in time. We will learn the `lineplot` function and use it to create dynamic, detailed, and accurate line plots directly from our data.\n",
    "* **Statistics/Data:** Time series analysis involves examining trends, cycles, or other interesting patterns that emerge over time. Learn to identify these patterns, and to exercise caution in interpreting patterns in data by using what you know about measurement and baseline data to separate \"signal\" from \"noise.\" \n",
    "* **Content:** We will explore different ways that air quality data is measured, and  uncover real-world patterns in air pollution data. We will also consider what real-world events or behvaiors might be impacting air quality."
   ]
  },
  {
   "cell_type": "markdown",
   "id": "432d9dd4-90fa-4a01-85f1-274ac4bd3225",
   "metadata": {},
   "source": [
    "## Introducing Some Key Ideas\n",
    "\n",
    "We will start with a quick introduction to some of the technical and conceptual foundations for time series data: showing you how to look at a dataset of hourly air quality measurements. \n",
    "\n",
    "For this part, we will focus on hourly data reporting the Air Quality Index or **AQI**, a measure used by many health and government organizations to communicate with the public. AQI is a measure that takes into account the presence and levels of several different air pollutants at once, to give an overall assessment of whether the air is, overall, safe to breathe. \n",
    "\n",
    "The AQI data we will be exploring is based on an air quality monitoring station located in West Oakland, California."
   ]
  },
  {
   "cell_type": "markdown",
   "id": "c4cec45e-14f7-4e08-8501-f27fa0348912",
   "metadata": {},
   "source": [
    "### Part I: Loading the Data"
   ]
  },
  {
   "cell_type": "markdown",
   "id": "25b2ee04-a77d-436c-b1c7-3ae7275659c8",
   "metadata": {},
   "source": [
    "We're going to load a dataset that reports the hourly AQI over the course of one week from a monitoring station in West Oakland. The data are from the Bay Area Air Quality Municipal District, an air pollution control agency that monitors and reports on air quality in the greater San Francisco Bay region."
   ]
  },
  {
   "cell_type": "code",
   "execution_count": null,
   "id": "d5e102e5-11a9-48bf-80e7-1bdd7a81f4d3",
   "metadata": {},
   "outputs": [],
   "source": [
    "import pandas as pd # pandas is for making data tables\n",
    "\n",
    "aqi_data = pd.read_csv('baaqmd_data.csv') # read the data\n",
    "aqi_data.head() # show the first 5 rows of data"
   ]
  },
  {
   "cell_type": "markdown",
   "id": "c7a862ab-d0bb-4538-ad69-021531072e1f",
   "metadata": {},
   "source": [
    "<div class=\"alert alert-success\">\n",
    "\n",
    "**Considering the data you see above,**\n",
    "\n",
    "\n",
    "* What do you notice and wonder about this dataset?\n",
    "\n",
    "\n",
    "* What are some questions you could explore?\n",
    "\n",
    "\n"
   ]
  },
  {
   "cell_type": "markdown",
   "id": "8be8155a-ab8b-4ca6-9311-5939956e4aff",
   "metadata": {},
   "source": [
    "We will use this dataset to practice code and visualizations for time series analysis. Remember, good documentation explains both the \"why\" (in text like this) and the \"how\" (in `#code comments`)."
   ]
  },
  {
   "cell_type": "markdown",
   "id": "c76436be-5ec1-4379-8298-33cea8c41acb",
   "metadata": {},
   "source": [
    "### Part II: Working with `datetime`"
   ]
  },
  {
   "cell_type": "markdown",
   "id": "3d136f6b-0b93-47a9-865d-abfaeeb4c82f",
   "metadata": {},
   "source": [
    "One thing you may have noticed above is that the month, day, year, and hour of each AQI record is stored in a different column. If we tried to graph the data, we would not be able to put \"time\" correctly on the x-axis.\n",
    "\n",
    "We need to convert all this separate information into a single `datetime`. A `datetime` is a special format that computers use to keep time information organized."
   ]
  },
  {
   "cell_type": "markdown",
   "id": "37fd7d82-e681-47e5-a3fe-5a00f93a49c2",
   "metadata": {},
   "source": [
    "Let's show a quick example with one date, and then we will use the same process to convert all the records in our AQI dataset. Try replacing the code below with a date that is special to you!"
   ]
  },
  {
   "cell_type": "code",
   "execution_count": null,
   "id": "998ce9fc-cfae-49fc-85aa-21c08d34789c",
   "metadata": {},
   "outputs": [],
   "source": [
    "# often, datasets express date and time separately. \n",
    "# we will practice with a single, split up date\n",
    "year = 2025 # a number format\n",
    "month = 9\n",
    "day = 9\n",
    "time = \"17:53\" # a string/text format\n",
    "\n",
    "# let's split the time up into hours and minutes\n",
    "hours, minutes = time.split(':')\n",
    "\n",
    "# first, we put these together into a common date format \n",
    "consolidated = str(month) + \"-\" + str(day) + \"-\" + str(year) + \" \" + str(hours) + \":\" + str (minutes)\n",
    "consolidated # show the text string we made"
   ]
  },
  {
   "cell_type": "markdown",
   "id": "44fd891e-511b-4290-8f3b-17d1518e8d01",
   "metadata": {},
   "source": [
    "Now, we want to take the combined date and convert it to the `datetime` object."
   ]
  },
  {
   "cell_type": "code",
   "execution_count": null,
   "id": "311fb94b-4bf4-469b-a7a1-446d4c77e71d",
   "metadata": {},
   "outputs": [],
   "source": [
    "# if the text string is a common format, the to_datetime\n",
    "# function will automatically read and convert it to a\n",
    "# datetime\n",
    "\n",
    "pd.to_datetime(consolidated)"
   ]
  },
  {
   "cell_type": "markdown",
   "id": "063617ef-a395-476a-b497-980f1a9ddfdb",
   "metadata": {},
   "source": [
    "We are going to do this same process for all the records in the air quality dataset. In the example above, we did this for only one set of date information. Below, the code will look a bit different because we are doing the process for *all* the records in `aqi_data`."
   ]
  },
  {
   "cell_type": "code",
   "execution_count": null,
   "id": "24e0b268-1708-420e-840f-4ea133787cb2",
   "metadata": {},
   "outputs": [],
   "source": [
    "# each record in the data table has a Month, Day, Year, and Time.\n",
    "# Below, we split the Time up into Hours and Minutes, like we did in the example.\n",
    "\n",
    "# Make new columns in aqi_data called \"Hours\" and \"Minutes.\"\n",
    "# Take what's in the \"Time\" column and split it up. The numbers before\n",
    "# the colon become hours, the numbers after the colon become minutes.\n",
    "aqi_data[['Hours', 'Minutes']] = aqi_data['Time'].str.split(':', expand=True).astype(int)\n",
    "\n",
    "# for each record, store the values that represent year,\n",
    "# month, day, etc. to be converted to a datetime\n",
    "datetime_info = {\n",
    "    'year': aqi_data['Year'],\n",
    "    'month': aqi_data['Month'],\n",
    "    'day': aqi_data['Day'],\n",
    "    'hour': aqi_data['Hours'],\n",
    "    'minute': aqi_data['Minutes']\n",
    "}\n",
    "\n",
    "# Add a new column called 'datetime' to aqi_datetime.\n",
    "# Convert the information for each record that is saved \n",
    "# in datetime_info into a datetime and put it in the column.\n",
    "aqi_data['datetime'] = pd.to_datetime(datetime_info)\n",
    "\n",
    "# show the dataset with the new datetime column\n",
    "aqi_data"
   ]
  },
  {
   "cell_type": "markdown",
   "id": "fb7618a6-06b5-4010-9a92-8b7264eca00d",
   "metadata": {},
   "source": [
    "<div class=\"alert alert-success\">\n",
    "\n",
    "**Explore the new table above:**\n",
    "\n",
    "\n",
    "* How might the new `datetime` column help with analysis?\n",
    "\n",
    "\n",
    "* What, if any, questions do you still have about what we've done here?\n"
   ]
  },
  {
   "cell_type": "markdown",
   "id": "b6c197be-8954-47ba-b764-1b5ea30f9693",
   "metadata": {},
   "source": [
    "### Part III: Visualizing the Data\n",
    "\n",
    "Now that we have a proper `datetime` column, we can create a line plot. This will let us see the \"shape\" of the data over time. \n",
    "\n",
    "When you are trying to interpret a graph, it's also important to pay attention to what increases or decreases in a quantity actually mean. If you are not aware of the scale of measurements, something that looks like a large increase on a graph might not mean anything at all. \n",
    "\n",
    "Below is the U. S. Environmental Protection Agency's guide to interpreting AQI measurements. You may find it useful in making sense of the graph we will create.\n",
    "\n",
    "<div>\n",
    "\n",
    "<img src=\"epa_aqi_2.jpg\" width=\"550\"> \n",
    "\n",
    "</div>\n",
    "\n",
    "Now, let's plot the AQI for the first few months of data to see what it looks like."
   ]
  },
  {
   "cell_type": "code",
   "execution_count": null,
   "id": "26eda8ad-a3af-4e2b-a4d2-e9f1887fa952",
   "metadata": {},
   "outputs": [],
   "source": [
    "import seaborn as sns # make nice looking graphs\n",
    "import matplotlib.pyplot as plt # this helps us change axis labels\n",
    "import matplotlib.dates as mdates # this helps us format datetimes\n",
    "\n",
    "sns.set_theme() # this sets a nice theme with a grid on the plots\n",
    "\n",
    "# we want to format the datetimes so they look nice on the plot\n",
    "# the line below says to show the day \"%a\", then make a new line \"\\n\"\n",
    "# and put the MM-DD on the new line \"%b-%d\"\n",
    "date_format = mdates.DateFormatter('%a\\n%b-%d')\n",
    "\n",
    "# the line below sends the new date format to the plot\n",
    "plt.gca().xaxis.set_major_formatter(date_format)\n",
    "\n",
    "# draw the plot\n",
    "sns.lineplot(\n",
    "    data=aqi_data, \n",
    "    x='datetime', \n",
    "    y='AQI'\n",
    ")"
   ]
  },
  {
   "cell_type": "markdown",
   "id": "971dcfa5-6345-4cfc-b334-568890a8016e",
   "metadata": {},
   "source": [
    "<div class=\"alert alert-success\">\n",
    "\n",
    "**Considering the lineplot above,**\n",
    "\n",
    "\n",
    "                                \n",
    "* What do you notice and wonder?\n",
    "\n",
    "\n",
    "\n",
    "* What could have happened to create the pattern you see above?\n",
    "\n",
    "\n",
    "\n",
    "* There are many rises and falls in the data. What patterns in this graph would you consider to be \"signals\" and what might be \"noise\"? How are you making those decisions?\n",
    "\n",
    "\n",
    "\n",
    "* You may have noticed that the large spike in the graph occurs in the evening of July 4. How did/does this impact your interpretation of the graph?\n",
    "\n",
    "</div>"
   ]
  },
  {
   "cell_type": "markdown",
   "id": "fda7fbe2-c1a1-4741-8235-628f4c4579d5",
   "metadata": {},
   "source": [
    "**Summary.** now you know about datetime, plotting line graphs, and exploring trends over time based on what you know about a measure. Let's apply these to a more interactive data investigation."
   ]
  },
  {
   "cell_type": "markdown",
   "id": "fb2d6d7a-ffee-4b13-ac5b-33a4cc5553f0",
   "metadata": {},
   "source": [
    "# Getting Clear on Air Quality: An Investigation of Pollutants During San Francisco's Orange Skies Day"
   ]
  },
  {
   "cell_type": "markdown",
   "id": "ae587453-a4c0-421d-8a32-dbd1ee2fef77",
   "metadata": {},
   "source": [
    "On September 9, 2020 residents in the greater San Francisco Bay Area woke up to a sky that was a deep, saturated orange color. What was later called \"Orange Skies day\" was caused by air pollution generated by a combination of intense wildfires nearby, and weather conditions that suspended particulate matter high in the atmosphere for some time, creating the orange color effect."
   ]
  },
  {
   "cell_type": "markdown",
   "id": "37b89c3a-f3c2-4d14-9eaf-f78416949251",
   "metadata": {},
   "source": [
    "<div style=\"display: flex; justify-content: space-around;\">\n",
    "\n",
    "<img src=\"bridge.jpg\" width=\"250\"> \n",
    "\n",
    "<img src=\"financial.jpg\" width=\"250\"> \n",
    "\n",
    "<img src=\"nature.jpg\" width=\"250\"> \n",
    "\n",
    "</div>"
   ]
  },
  {
   "cell_type": "markdown",
   "id": "e51cfbb2-e4c8-4a19-a709-86a9048b3030",
   "metadata": {},
   "source": [
    "In this activity, we will look at hourly air quality measurements taken in Richmond, CA, a northern East Bay suburb of San Francisco, from the Sept 3 until Sept 17, 2020. (XXX might replace this with something closer to SF but the readings will be similar.)"
   ]
  },
  {
   "cell_type": "markdown",
   "id": "ae61d38f-a663-4732-b5a7-0b4ad68619f7",
   "metadata": {},
   "source": [
    "## Part I: Loading the data\n",
    "\n",
    "First, let's take a look at the dataset to see what we will be working with. Before you play the next cell, take some time to think about what attributes (columns) might be included in the dataset."
   ]
  },
  {
   "cell_type": "code",
   "execution_count": null,
   "id": "757ab8fa-1bd6-4729-ac2b-0d333e88c57e",
   "metadata": {},
   "outputs": [],
   "source": [
    "fire_data = pd.read_csv('sept2020.csv')\n",
    "\n",
    "fire_data # this will show the first 5 records and the last 5 records in the dataset."
   ]
  },
  {
   "cell_type": "markdown",
   "id": "93b87afc-78dd-4e1c-b118-e34aa97be8b7",
   "metadata": {},
   "source": [
    "<div class=\"alert alert-success\">\n",
    "\n",
    "* What do you notice and wonder about the dataset above?\n",
    "\n",
    "\n",
    "* What questions could you explore using this dataset?\n",
    "\n",
    "\n",
    "* What information would you need to interpret these readings? \n",
    "\n",
    "</div>"
   ]
  },
  {
   "cell_type": "markdown",
   "id": "950c4b58-07e9-4ea4-8cfd-5c223caa0380",
   "metadata": {},
   "source": [
    "Let's take a look some summary descriptions of the data to get a better sense of what we are working with. We're going to use the describe() function, which you've seen before. You'll notice that there are different measurements all stored in the same column. We can use groupby to treat them differently."
   ]
  },
  {
   "cell_type": "code",
   "execution_count": null,
   "id": "84d316a9-d379-4612-9601-d222ec2e2abe",
   "metadata": {},
   "outputs": [],
   "source": [
    "# show summary statistics, but do it by the different pollutant groups.\n",
    "fire_data.groupby('pollutant').describe()"
   ]
  },
  {
   "cell_type": "markdown",
   "id": "28c75c29-ef8c-4f94-afbc-cb871a04354a",
   "metadata": {},
   "source": [
    "As you can probably tell, different pollutants are measured on different scales. We can't be sure about what is meaningful without understanding more about how these are measured, and what the measures mean. \n",
    "\n",
    "Here are some important things to know about the pollutants that are in this dataset, and some current EPA National Ambient Air Quality Standards for each.\n",
    "\n",
    "* **PM2.5** describes very small particles, like black carbon or ash, that are in the air. PM2.5 can irritate the lungs, causing respiratory problems. These particles are so small that they can even pass through the lung barrier and get into the bloodstream, causing other health problems as well. PM2.5 concentrations are usually measured in micrograms per cubic meter (explain relatably). The U. S. EPA specifies PM2.5 values of 0-9 as \"Good\", 12.1-35.4 as \"Moderate\", 35.5-55.4 as \"Unhealthy for Sensitive Groups,\" and values over 55.5 as Unhealthy for all groups.\n",
    "\n",
    "* **Ozone (O3)** is a chemical that exists as a natural part of Earth's upper atmosphere, and that is also created at the ground level when various other pollutants, especially those involved with motor vehicles, interact with heat and light. Ozone causes a variety of respiratory problems, especially for children and people with asthma. The EPA designates Ozone levels over 0.071 ppm as \"marginal\", over 0.081 ppm as \"moderate\", and over 0.093 as \"serious\" in terms of the potential for harm to public health.\n",
    "\n",
    "* **Carbon monoxide (CO)** is a tiny molecule that interferes with the body's ability to carry oxygen in blood. At high levels can cause acute poisoning, loss of conciousness and death. At lower levels, exposure can cause headaches, nausea, muscle pain, and cognitive impairment. The EPA has designated CO levels over 9 ppm (over 8 hours) or 35 ppm (over 1 hour) as harmful to public health. The biggest sources of CO are motor vehicles and residential and commercial heating and cooking appliances."
   ]
  },
  {
   "cell_type": "markdown",
   "id": "f212a688-fe04-4cca-b4ed-4bca1edd9f45",
   "metadata": {},
   "source": [
    "### Part II: Visualizing the Data Over Time"
   ]
  },
  {
   "cell_type": "markdown",
   "id": "407a8e89-9578-407a-9ceb-c1c58848ceef",
   "metadata": {},
   "source": [
    "Now, we're going to look at some lineplots to visualize concentrations of each of these pollutants during the days immediately preceding, during, and after the \"Orange Skies\" event in September 2020. The code below will create a lineplot of PM2.5 levels. "
   ]
  },
  {
   "cell_type": "markdown",
   "id": "4c2a18f9-5dbf-4e18-8085-bfc9995a8d5f",
   "metadata": {},
   "source": [
    "<div class=\"alert alert-success\">\n",
    "\n",
    "**Before we create the lineplot, consider:**\n",
    "\n",
    "\n",
    "* What do you expect the plot of PM2.5 levels to look like?\n",
    "\n",
    "\n",
    "* If you were to plot the other pollutants, what would you expect those to look like?\n",
    "\n",
    "\n",
    "\n",
    "</div>"
   ]
  },
  {
   "cell_type": "code",
   "execution_count": null,
   "id": "e9e9ea24-9410-44ed-8eea-9fca4fc0d34b",
   "metadata": {},
   "outputs": [],
   "source": [
    "#Plot the three pollutants together. you'll see that the scales are wonky and PM2.5 looks like you would expect, but it's hard to see what's happening with O3 and CO.\n",
    "# since the dataset has a column that describes datetime, we can\n",
    "# easily convert that to Python datetimes using to_datetime.\n",
    "fire_data['datetime'] = pd.to_datetime(fire_data['datetime_local'])\n",
    "\n",
    "## FORMATTING STUFF\n",
    "# set the date format, like we did in the first example above\n",
    "date_format = mdates.DateFormatter('%a\\n%b-%d')  # set the format\n",
    "plt.gca().xaxis.set_major_formatter(date_format) # give format to the plot\n",
    "\n",
    "# we have lots of days, so let's only add a tick to the axis\n",
    "# for every 48 hours\n",
    "locator = mdates.HourLocator(interval=48)  # set the format\n",
    "plt.gca().xaxis.set_major_locator(locator) # give the format to the plot\n",
    "\n",
    "# now, create a plot showing levels of each pollutant over time\n",
    "sns.lineplot(\n",
    "    data=fire_data, \n",
    "    x='datetime', \n",
    "    y='value',\n",
    "    hue = 'pollutant'\n",
    ")"
   ]
  },
  {
   "cell_type": "markdown",
   "id": "e3b1e6aa-a0aa-4d2a-ae67-8e39eefa83f6",
   "metadata": {},
   "source": [
    "<div class=\"alert alert-success\">\n",
    "\n",
    "* Is this what you expected? why or why not?\n",
    "\n",
    "\n",
    "* What do you notice/wonder here?\n",
    "\n",
    "\n",
    "* What of the data you see above would you consider to be a \"signal\"? What would you consider to be \"noise\"?\n",
    "\n",
    "\n",
    "* What additional information do you need to make progress in understanding how air quality changed during the \"Orange Skies\" incident?\n",
    "\n",
    "\n",
    "</div>"
   ]
  },
  {
   "cell_type": "markdown",
   "id": "69a3ee81-ec4e-4c44-a51f-6d9710eb9a07",
   "metadata": {},
   "source": [
    "### Part III: Visualizing Trends for Each Pollutant"
   ]
  },
  {
   "cell_type": "markdown",
   "id": "d889351a-f93f-4dc8-abe1-1b4a74533934",
   "metadata": {},
   "source": [
    "Since these pollutants are measured and interpreted using very different scales, it is helpful to look at each separately. We can do this by creating a line plot that is filtered to show only one pollutant at a time. The code below creates a filter, so that only PM2.5 data is used to create the line plot. "
   ]
  },
  {
   "cell_type": "code",
   "execution_count": null,
   "id": "fd592f4a-7c48-4691-b159-1086b8524d6e",
   "metadata": {},
   "outputs": [],
   "source": [
    "## FORMATTING STUFF\n",
    "# set the date format, like we did in the first example above\n",
    "date_format = mdates.DateFormatter('%a\\n%b-%d')  # set the format\n",
    "plt.gca().xaxis.set_major_formatter(date_format) # give format to the plot\n",
    "\n",
    "# we have lots of days, so let's only add a tick to the axis\n",
    "# for every 48 hours\n",
    "locator = mdates.HourLocator(interval=48)  # set the format\n",
    "plt.gca().xaxis.set_major_locator(locator) # give the format to the plot\n",
    "\n",
    "## FILTER TO THE POLLUTANT\n",
    "filter = fire_data['pollutant']==\"PM2.5\" # this filters to just PM2.5 data\n",
    "\n",
    "sns.lineplot(data=fire_data[filter], x='datetime', y='value')"
   ]
  },
  {
   "cell_type": "markdown",
   "id": "791ea0b1-31dc-4099-8af4-4c0e80a32230",
   "metadata": {},
   "source": [
    "What do you think will be trends in the graphs for the other polluntants? Edit and use the code below as a tool to explore the concentrations of PM2.5, Ozone, and Carbon Monoxide separately to get a better sense of each pattern at an interpretable scale."
   ]
  },
  {
   "cell_type": "markdown",
   "id": "82eb9f3d-e345-4594-a3a8-f177f8291c3d",
   "metadata": {},
   "source": [
    "<div class=\"alert alert-success\">\n",
    "\n",
    "* What new things did you discover when looking at the plots separately?\n",
    "\n",
    "\n",
    "\n",
    "* What information helped you make sense of the plots for each polluntant? What additional information might be helpful?\n",
    "\n",
    "\n",
    "                                                      \n",
    "* What questions do you still have?\n",
    "\n",
    "\n",
    "\n",
    "</div>"
   ]
  },
  {
   "cell_type": "markdown",
   "id": "373a9b82-887b-4b45-a523-1d9237c83b73",
   "metadata": {},
   "source": [
    "### Part IV: Looking Across Pollutants Simultaneously"
   ]
  },
  {
   "cell_type": "markdown",
   "id": "0e75736d-1f1f-4b92-a096-c116fe885e08",
   "metadata": {},
   "source": [
    "You may have noticed that not all of the pollutants increased or decreased in concentration at the same time during the wildfires. \n",
    "\n",
    "When doing time series analyses, it is sometimes helpful to align multiple plots to see what was happening with each value at the same point in time. Below, we generate a plot with all three pollutants aligned."
   ]
  },
  {
   "cell_type": "code",
   "execution_count": null,
   "id": "f666d2ce-82fb-4858-964f-ddeeb7f8a0d7",
   "metadata": {},
   "outputs": [],
   "source": [
    "g = sns.FacetGrid(fire_data, \n",
    "                  row=\"pollutant\", \n",
    "                  aspect=4, # this makes the graphs 4x wider than they are tall\n",
    "                  sharey=False)\n",
    "\n",
    "g.map(sns.lineplot, \"datetime\", \"value\")"
   ]
  },
  {
   "cell_type": "markdown",
   "id": "4f509b88-e409-477f-af11-75167400b0af",
   "metadata": {},
   "source": [
    "<div class=\"alert alert-success\">\n",
    "\n",
    "* Which patterns among the three graphs you see above are \"worth talking about\"? Why?\n",
    "\n",
    "\n",
    "\n",
    "* If you had to tell the story of air quality during the weeks featured above, what story would you tell?\n",
    "\n",
    "\n",
    "\n",
    "* Would you say there is anything \"interesting\" happening with Ozone? Why or why not?\n",
    "\n",
    "\n",
    "\n",
    "* There is a \"dip\" in PM2.5 levels between 9-11 and 9-20, but not in CO levels. Why might this be? Is it something worth paying attention to? Why or why not?\n",
    "\n",
    "\n",
    "* What additional questions do these graphs bring up for you?\n",
    "\n",
    "</div>"
   ]
  },
  {
   "cell_type": "markdown",
   "id": "aeab2961-8b95-404d-9f2a-ffda4fea641a",
   "metadata": {},
   "source": [
    "# Where Else Do We See Time Series?\n",
    "\n",
    "The skills you just practiced—creating datetime objects and plotting line graphs—are foundational for analyzing any data that has a time component.\n",
    "\n",
    "Think about how you could apply this same \"bundle\" of skills to other content areas:\n",
    "\n",
    "* **Ecology:** Tracking the population of a predator and its prey over several decades to see their cyclical relationship.\n",
    "* **Social Studies / History:** Plotting immigration rates, economic indicators (like GDP), or census data over time to analyze historical trends.\n",
    "* **Finance:** Analyzing the stock price of a company over a year to identify volatility and trends.\n",
    "* **School Improvement:** Plotting daily student attendance rates over a school year to identify days or weeks with low attendance that might need intervention.\n",
    "\n",
    "Any time you have a question that includes the words \"over time,\" the tools and concepts in this notebook are a great place to start your investigation."
   ]
  },
  {
   "cell_type": "markdown",
   "id": "19ceea8b-34d3-4e2f-820f-f5d11487f38b",
   "metadata": {},
   "source": [
    "## In the Classroom\n",
    "\n",
    "This notebook models a core scientific activity: observing, processing, and visualizing time series data to find patterns.\n",
    "\n",
    "**How to Use This in a Lesson:**\n",
    "* **Science:** In an Earth Science or Environmental Science unit, students could use this notebook to explore real-world pollution data. You could pose questions like: \"Are pollution levels higher during certain times of the day? Or certain seasons?\" They would modify the code to filter for different time periods to answer those questions.\n",
    "* **Math:** In a statistics or data analysis unit, the focus could be on the visualization itself. Why is a line graph appropriate here? What does a sharp spike represent? What rises and falls in the concentrations are worth paying attention to, and which ones might not actually reflect a \"signal\" among the \"noise\"?\n",
    "\n",
    "What other air quality events or patterns might be worth looking at?"
   ]
  },
  {
   "cell_type": "markdown",
   "id": "fd1012a6-5a4b-46ad-86ba-2540db88f8f1",
   "metadata": {},
   "source": [
    "Credit\n",
    "\n",
    "North Complex smoke in San Francisco - Bay Bridge and Financial District.jpg  North Complex smoke in San Francisco - Financial District.jpg by Christopher Michel / Wikipedia / CC-BY-2.0\n",
    "\n",
    "Observing the Orange Sky in San Francisco, California, USA, September 9, 2020.jpg by Semiautonomous / Wikipedia / CC-BY-SA-4.0"
   ]
  },
  {
   "cell_type": "code",
   "execution_count": null,
   "id": "9980e5b6-16b3-4d07-880c-c101ee0ad17a",
   "metadata": {},
   "outputs": [],
   "source": []
  }
 ],
 "metadata": {
  "kernelspec": {
   "display_name": "Python 3 (ipykernel)",
   "language": "python",
   "name": "python3"
  },
  "language_info": {
   "codemirror_mode": {
    "name": "ipython",
    "version": 3
   },
   "file_extension": ".py",
   "mimetype": "text/x-python",
   "name": "python",
   "nbconvert_exporter": "python",
   "pygments_lexer": "ipython3",
   "version": "3.11.13"
  }
 },
 "nbformat": 4,
 "nbformat_minor": 5
}
