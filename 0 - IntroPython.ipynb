{
 "cells": [
  {
   "cell_type": "markdown",
   "id": "0",
   "metadata": {},
   "source": [
    "# **Show Your Work**: An Introduction to Computational Notebooks for K-12 Teachers\n",
    "\n",
    "<div class=\"alert alert-info\">\n",
    "This notebook is designed for teachers in math and science who are new to computational notebooks. Our goal is to introduce you to what notebooks are, explore how they might be useful, and help you decide if they are right for your classroom.\n",
    "</div>"
   ]
  },
  {
   "cell_type": "markdown",
   "id": "1",
   "metadata": {},
   "source": [
    "<hr style=\"border: 5px solid #003262;\" />\n",
    "\n",
    "### 🔸 What is a Computational Notebook?\n",
    "\n",
    "\n",
    "\n",
    "In the professional world, from science and engineering to finance and journalism, **computational notebooks** (like this one!) have become a standard tool. These notebooks are typically used to present data analyses through an interactive document that includes\n",
    "\n",
    "* **Runnable code**\n",
    "* **Corresponding output** (such as tables and graphs)\n",
    "* **Explanatory text**\n",
    "\n",
    "all in one place. Together, these elements create a **complete story of an analysis**."
   ]
  },
  {
   "cell_type": "markdown",
   "id": "2",
   "metadata": {},
   "source": [
    "<br/>\n",
    "\n",
    "---\n",
    "\n",
    "Let’s try a quick example to show what we mean by “runnable code.” Below is what’s called a **code block** or a **code cell**.\n",
    "\n",
    "Each line of code in the block is followed by a **comment**\n",
    " (<span style='color:green'>_#like this_</span>).\n",
    "The hash (`#`) tells the computer to **ignore** everything that comes after it. It’s written only for humans, to help make the code easier to understand.\n",
    "\n",
    "Click on the code cell below, find the **play button** for this notebook, and click it to **run all the code** in this block."
   ]
  },
  {
   "cell_type": "code",
   "execution_count": null,
   "id": "3",
   "metadata": {},
   "outputs": [],
   "source": [
    "x = 4 + 5  # make x equal to 4 plus 5\n",
    "x          # output the contents of x"
   ]
  },
  {
   "cell_type": "markdown",
   "id": "4",
   "metadata": {},
   "source": [
    "Below is another code block. To keep things interesting, we've designed this notebook so running the block will **create an error.** Try it out to see what the error looks like."
   ]
  },
  {
   "cell_type": "code",
   "execution_count": null,
   "id": "5",
   "metadata": {},
   "outputs": [],
   "source": [
    "y        # output the contents of y\n",
    "y = 5    # put 5 in the contents of y"
   ]
  },
  {
   "cell_type": "markdown",
   "id": "6",
   "metadata": {},
   "source": [
    "Every error gives you a clue about how you can fix your code.\n",
    "\n",
    "This one tells you that you need to assign a value (a number or some text) to **`y`** *before* asking the computer to show it.\n",
    "\n",
    "Edit the code block above to assign a value to **`y`** before outputting it. Run the block to test and see what happens.\n",
    "    \n",
    "When you edit a code cell, the line on the left-hand side turns orange. This is a reminder that something has been changed, but you haven't yet run the changed code."
   ]
  },
  {
   "cell_type": "markdown",
   "id": "7",
   "metadata": {},
   "source": [
    "---\n",
    "\n",
    "When you are working with code, **order matters**.\n",
    "\n",
    "In notebooks, there are two different kinds of order:\n",
    "\n",
    "* The order of **lines** (like in the box above)\n",
    "* The order in which you **run code blocks** using the play button\n",
    "\n",
    "Try running the code block below. You’ll see a familiar error."
   ]
  },
  {
   "cell_type": "code",
   "execution_count": null,
   "id": "8",
   "metadata": {},
   "outputs": [],
   "source": [
    "z"
   ]
  },
  {
   "cell_type": "markdown",
   "id": "9",
   "metadata": {},
   "source": [
    "Now, instead of trying to fix the error, try running the block below. It won’t give you any output, since you're not asking for any.\n",
    "\n",
    "But *then*, run the block **above** one more time to display **`z`**."
   ]
  },
  {
   "cell_type": "code",
   "execution_count": null,
   "id": "10",
   "metadata": {},
   "outputs": [],
   "source": [
    "z = \"Look at me now!\""
   ]
  },
  {
   "cell_type": "markdown",
   "id": "11",
   "metadata": {},
   "source": [
    "What this allows you to do is **tinker, edit, and discover** things through making changes to code.  \n",
    "If you get a result that’s surprising or that inspires more questions, go ahead—**edit the code and run it again** to learn more!\n",
    "\n",
    "We’ll try an example of what this means for data investigations soon.\n",
    "\n",
    "It’s helpful to remember that **the order of cells matters** because sometimes, when you get an error in a Jupyter notebook, it could just be because you forgot to press “play” on an earlier box. The current code might depend on something that hasn’t executed yet."
   ]
  },
  {
   "cell_type": "markdown",
   "id": "12",
   "metadata": {},
   "source": [
    "<hr style=\"border: 1px solid #fdb515;\" />\n",
    "\n",
    "### 🔸 Why Should I Learn About Computational Notebooks?\n",
    "\n",
    "As a teacher, you know especially well that science is not just about getting an answer.  \n",
    "It’s about the **process**, and about the **decisions** you make when you:\n",
    "\n",
    "- Make observations  \n",
    "- Build models  \n",
    "- Make calculations  \n",
    "- Collect data\n",
    "\n",
    "Notebooks can make this process **transparent**.  \n",
    "Anyone can see the exact steps — the data, the code, the model, the reasoning — that led to a conclusion.\n",
    "\n",
    "This is called **reproducibility**, and it’s a cornerstone of modern scientific practice."
   ]
  },
  {
   "cell_type": "markdown",
   "id": "13",
   "metadata": {},
   "source": [
    "Another important feature of notebooks is that they allow students to create simulations that have **probabilistic elements**, modeling **uncertainty** in science and statistics.\n",
    "\n",
    "Here's a very simple example of what that looks like. Try running the cell a few times."
   ]
  },
  {
   "cell_type": "code",
   "execution_count": null,
   "id": "14",
   "metadata": {},
   "outputs": [],
   "source": [
    "import random # load a library for random numbers\n",
    "\n",
    "random.randint(0,10) # output a random integer between 0 and 10"
   ]
  },
  {
   "cell_type": "markdown",
   "id": "15",
   "metadata": {},
   "source": [
    "Sharing a notebook is like sharing your:\n",
    "\n",
    "- Lab notes  \n",
    "- Calculations  \n",
    "- Simulations  \n",
    "- Analyses  \n",
    "- Final report\n",
    "\n",
    "This kind of **transparency** is necessary for good scientific and statistical work, and can be very useful for students, too.  \n",
    "It **demystifies data analysis**, showing it as a series of deliberate, understandable steps.\n",
    "\n",
    "It directly connects to the ways that science and math education should work:\n",
    "\n",
    "- Students experience how knowledge is built, revised, and validated  \n",
    "- They interact with the code and change it  \n",
    "- They ask their own questions\n",
    "\n",
    "The biggest hurdle is the **initial learning curve**. Learning the basics of a coding language can feel intimidating.  \n",
    "\n",
    "That’s why we are here! However, as you’ll see, **you don’t need to be a software developer** to do powerful things."
   ]
  },
  {
   "cell_type": "markdown",
   "id": "16",
   "metadata": {},
   "source": [
    "<hr style=\"border: 1px solid #fdb515;\" />\n",
    "\n",
    "## 🔸 How do notebooks compare to other tools I use in my classroom?\n",
    "\n",
    "You already use tools for calculation and data in your classroom.  \n",
    "How might notebooks like this one fit in?\n",
    "\n",
    "- #### 📝 Paper & Pencil  \n",
    "  Classic, inexpensive, highly accessible, flexible, and excellent for sketching ideas or working through a single problem.  \n",
    "\n",
    "  However, they can become unwieldy when you want students to work with **large datasets**, or to **tinker with models or simulations**.\n",
    "\n",
    "- #### 📊 Spreadsheets and Calculators (Excel, Google Sheets, or TI-85)  \n",
    "  Great for entering simple formulas, and basic graphs.  \n",
    "  It’s good for students to become comfortable with spreadsheets as a popular professional tool.  \n",
    "\n",
    "  However, spreadsheets and calculators aren't designed for flexible analysis with many variables at once, or for tracking the **process and justification** for your analysis decisions.\n",
    "\n",
    "- #### 📈 Interactive Graphing Tools (CODAP, Desmos, Tuva, DataClassroom)  \n",
    "  These make it very easy to explore **patterns and relationships** with data using menu-based and drag-and-drop methods. Some also include tools to document the process.  \n",
    "      \n",
    "  However, these tools are designed specifically for **education**, and are **not used in the professional world**. It can be hard to strike a balance between tools that are too **open-ended**, which can make it harder to focus on certain details, or too **constrained** to allow students to explore.\n",
    "\n",
    "- #### ▶️ Interactive Programming Tools (Code.org)  \n",
    "  Other interactive tools, like notebooks, integrate text and images with runnable, editable code as a webpage or interactive book.\n",
    "      \n",
    "  Computational notebooks allow students to edit not just code, but also the text and other parts of a document. In this way, students can slowly become **authors** of work over time by adding new text, new code, and new ideas.\n",
    "\n",
    "<br>\n",
    "\n",
    "### 🔑 Main Point  \n",
    "  Notebooks integrate the **narrative** (text and pictures), the **analysis** (code), and the **results** (your tables and plots) into a **single, interactive story**."
   ]
  },
  {
   "cell_type": "markdown",
   "id": "17",
   "metadata": {},
   "source": [
    "<hr style=\"border: 5px solid #003262;\" />\n",
    "\n",
    "# ❄️ A Cool Investigation: Penguin Populations\n",
    "\n",
    "<div class=\"alert alert-info\">\n",
    "This activity is designed to give you a little taste of what it can feel like to explore questions with data using Jupyter notebooks. We picked a topic that's easy to imagine doing in a classroom, and we'll share standards connections at the end of the investigation.\n",
    "</div>\n",
    "\n",
    "We're going to analyze a simple, fun dataset about penguins. The data were collected in the Palmer Archipelago, Antarctica.\n"
   ]
  },
  {
   "cell_type": "markdown",
   "id": "18",
   "metadata": {},
   "source": [
    "<div style=\"display: flex; justify-content: space-around;\">\n",
    "\n",
    "<img src=\"https://github.com/CalCoRE/show-your-work/blob/main/images/adelie.jpg?raw=true\" width=\"150\">\n",
    "\n",
    "<img src=\"https://github.com/CalCoRE/show-your-work/blob/main/images/gentoo.jpg?raw=true\" width=\"150\">\n",
    "\n",
    "<img src=\"https://github.com/CalCoRE/show-your-work/blob/main/images/chinstrap.jpg?raw=true\" width=\"150\">\n",
    "\n",
    "</div>"
   ]
  },
  {
   "cell_type": "markdown",
   "id": "19",
   "metadata": {},
   "source": [
    "Before we dive in, let's define some key terms. A dataset is a structured collection of information. In our dataset: \n",
    "* A **case**, or row in the table, describes a single observation (in this case, a penguin). \n",
    "* An **attribute**, or column in the table, describes characteristics or measurements we record for each observation. \n",
    "                                                                                \n",
    "Our dataset, includes several attributes such as `species`, `island`, `bill_length_mm`, `flipper_length_mm`, and more.\n",
    "\n",
    "This simple, consistent structure is the key to making data analysis work."
   ]
  },
  {
   "cell_type": "markdown",
   "id": "20",
   "metadata": {},
   "source": [
    "<hr style=\"border: 1px solid #fdb515;\" />\n",
    "\n",
    "## 🔹 Let's get started\n",
    "\n",
    "You will use code to explore the penguin data. As you do, we will have you keep track of your ideas using these text boxes. This will give you practice with **documenting** your ideas and analysis decisions.\n",
    "\n",
    "Good documentation does at least two, and sometimes more, things.\n",
    "\n",
    "1.  **Explanatory (in Text Cells):** Explaining the background information and *why* we are doing something, like we're doing here.\n",
    "\n",
    "2.  **Technical (in Code Comments):** Using comments (lines starting with `#`) inside the code to explain what a specific line of code does."
   ]
  },
  {
   "cell_type": "markdown",
   "id": "21",
   "metadata": {},
   "source": [
    "---\n",
    "### 🔸 Step 1: Load the Data\n",
    "\n",
    "Let's start by importing some libraries. These are code toolkits that allow you to perform certain kinds of specialized analysis. Below, we import libraries for making data tables, and for building data plots. Then, in the same code block, we'll load our data."
   ]
  },
  {
   "cell_type": "code",
   "execution_count": null,
   "id": "22",
   "metadata": {},
   "outputs": [],
   "source": [
    "# First, we import libraries. These add new functions we can use.\n",
    "\n",
    "import pandas as pd # pandas is for making data tables\n",
    "import seaborn as sns # seaborn is for making beautiful plots\n",
    "\n",
    "# The code below loads the dataset from a file. \n",
    "# We give the loaded dataset the name 'penguins'.\n",
    "penguins = pd.read_csv('https://github.com/CalCoRE/show-your-work/blob/main/data/penguins.csv?raw=true')"
   ]
  },
  {
   "cell_type": "markdown",
   "id": "23",
   "metadata": {},
   "source": [
    "Let's take a look at the first few rows of this dataset. Take a moment before you hit run to make a prediction about the output will look like."
   ]
  },
  {
   "cell_type": "code",
   "execution_count": null,
   "id": "24",
   "metadata": {},
   "outputs": [],
   "source": [
    "# The .head() function will display the first 5 rows of penguins\n",
    "# It helps confirm the data loaded correctly, and shows its structure.\n",
    "penguins.head()"
   ]
  },
  {
   "cell_type": "markdown",
   "id": "25",
   "metadata": {},
   "source": [
    "**DOUBLE CLICK** The green box below to write responses to the questions. When you are done, click the \"run\" button to close and format the box."
   ]
  },
  {
   "cell_type": "markdown",
   "id": "26",
   "metadata": {},
   "source": [
    "<div class=\"alert alert-success\">\n",
    "\n",
    "**Considering the data you see above,**\n",
    "\n",
    "\n",
    "\n",
    "* What do you notice and wonder about this dataset? \n",
    "\n",
    "\n",
    "\n",
    "* What are some questions you could explore?\n",
    "\n"
   ]
  },
  {
   "cell_type": "markdown",
   "id": "27",
   "metadata": {},
   "source": [
    "<br>\n",
    "\n",
    "---\n",
    "\n",
    "### 🔸 Step 2: Get Descriptive Statistics\n",
    "\n",
    "Now that the data is loaded and you've seen a few cases, let's get a statistical summary of _all_ the cases. This helps us understand the some characteristics of the numerical attributes in this dataset, things like: What's the average bill length? What's the shortest and longest flipper that were observed?"
   ]
  },
  {
   "cell_type": "code",
   "execution_count": null,
   "id": "28",
   "metadata": {},
   "outputs": [],
   "source": [
    "# The .describe() function calculates key descriptive statistics\n",
    "# for all the numerical columns in our data table.\n",
    "penguins.describe()"
   ]
  },
  {
   "cell_type": "markdown",
   "id": "29",
   "metadata": {},
   "source": [
    "<div class=\"alert alert-success\">\n",
    "\n",
    "**Take some time to review the descriptive statistics above:**\n",
    "\n",
    "\n",
    "\n",
    "* In what years were these data collected?\n",
    "\n",
    "\n",
    "\n",
    "* How would you describe a penguin that's 5000 grams, in terms of the general population?\n",
    "\n",
    "\n",
    "\n",
    "* How would you describe this penguin population in general?\n",
    "\n",
    "\n",
    "\n",
    "* Is there anything you find surprising about the summary of data?\n",
    "\n"
   ]
  },
  {
   "cell_type": "markdown",
   "id": "30",
   "metadata": {},
   "source": [
    "**DOUBLE CLICK THE GREEN BOX** to add your responses above."
   ]
  },
  {
   "cell_type": "markdown",
   "id": "31",
   "metadata": {},
   "source": [
    "<br>\n",
    "\n",
    "---\n",
    "\n",
    "### 🔸 Step 3: Visualize the Data\n",
    "\n",
    "\n",
    "\n",
    "Let's start to explore some relationships in this dataset. We'll start by showing you how to create a simple scatterplot of the penguins' bill length versus depth:\n",
    "\n",
    "\n",
    "\n",
    "\n",
    "<img src=\"https://github.com/CalCoRE/show-your-work/blob/main/images/bill.png?raw=true\" width=\"250\" height=\"150\">"
   ]
  },
  {
   "cell_type": "markdown",
   "id": "32",
   "metadata": {},
   "source": [
    "Before going to the next step, take some time to think about what you expect to see!"
   ]
  },
  {
   "cell_type": "code",
   "execution_count": null,
   "id": "33",
   "metadata": {},
   "outputs": [],
   "source": [
    "# We use the seaborn library (sns) to create a scatter plot.\n",
    "sns.scatterplot(\n",
    "    data=penguins,        # Use our penguins data\n",
    "    x='bill_length_mm',   # The column for the x-axis\n",
    "    y='bill_depth_mm'\n",
    ")"
   ]
  },
  {
   "cell_type": "markdown",
   "id": "34",
   "metadata": {},
   "source": [
    "<div class=\"alert alert-success\">\n",
    "\n",
    "**Consider the scatterplot above:**\n",
    "\n",
    "\n",
    "\n",
    "* Does it look like what you were expecting? Why, or why not?\n",
    "\n",
    "\n",
    "* How would you describe the general distribution of points in the scatterplot? What might be some reasons for that distribution?\n",
    "\n",
    "\n"
   ]
  },
  {
   "cell_type": "markdown",
   "id": "35",
   "metadata": {},
   "source": [
    "**DOUBLE CLICK THE GREEN BOX** to add your responses above."
   ]
  },
  {
   "cell_type": "markdown",
   "id": "36",
   "metadata": {},
   "source": [
    "You might wonder whether something like the penguin's island, sex, or species has something to do with these patterns. You can explore this question by using these attributes to color the scatterplot points. Try coloring the plot according to sex! Add the line `hue = 'sex'` inside the `scatterplot` function in the code above and run it. **It might take a few tries to get it right; don't give up!** Then, use the spaces above to take more notes, ask more questions, and continue exploring."
   ]
  },
  {
   "cell_type": "markdown",
   "id": "37",
   "metadata": {},
   "source": [
    "You can also create new scatterplots with different attributes and colors. For example, in addition to coloring data points, you can change their size using (for example) `size = 'sex'`.\n",
    "\n",
    "Use these tools to try to identify a satisfying candidate explanation for the irregular shape of the plot. "
   ]
  },
  {
   "cell_type": "markdown",
   "id": "38",
   "metadata": {},
   "source": [
    "---\n",
    "\n",
    "### 🔸 Step 4: Share and Compare Your Findings"
   ]
  },
  {
   "cell_type": "markdown",
   "id": "39",
   "metadata": {},
   "source": [
    "<div class=\"alert alert-success\">\n",
    "\n",
    "**Once you are satisfied with your investigation:**\n",
    "\n",
    "\n",
    "\n",
    "* How would you describe this population of penguins?\n",
    "\n",
    "\n",
    "* What are some things that might be impacting the characteristics of these penguins?\n",
    "\n",
    "\n",
    "* What science and math ideas did you find yourself using during this investigation?\n",
    "\n"
   ]
  },
  {
   "cell_type": "markdown",
   "id": "40",
   "metadata": {},
   "source": [
    "**DOUBLE CLICK THE GREEN BOX** to add your responses above."
   ]
  },
  {
   "cell_type": "markdown",
   "id": "41",
   "metadata": {},
   "source": [
    "As you might have discovered, there are quite a few paths that this investigation can take! If you're interested, check out [this document](https://docs.google.com/document/d/10_5XSb_BIQ5CzFdHhFs5ThVD-MnItylUMFcrNoTRY2k/edit?usp=sharing) to see some of these paths."
   ]
  },
  {
   "cell_type": "markdown",
   "id": "42",
   "metadata": {},
   "source": [
    "<hr style=\"border: 5px solid #003262;\" />\n",
    "\n",
    "# Curriculum Connections\n",
    "\n",
    "<div class=\"alert alert-info\">\n",
    "While this activity is meant for <i>you</i> as an educator, we designed it with classroom practice in mind. Exploring the Palmer Penguins dataset has great connections to several standards: Next Generation Science Standards Disciplinary Core Ideas and Science and Engineering Practices:\n",
    "</div>\n",
    "\n",
    "- In the **Next Generation Science Standards**, it connects to ideas about Interdependent Relationships in Ecosystems (LS2.A), Analyzing and Interpreting Data (Middle School Science and Engineering Practice), and Developing and Using Models (High School Science and Engineering Practice).\n",
    "\n",
    "- In the **Common Core State Standards in Mathematics**, it connects to summarizing, representing, and interpreting data on two quantitative variables (HSS.ID.B.6) and can be connected to discussions of linear and non-linear models.\n",
    "\n",
    "- In the **Computer Science Teachers Association K-12 Standards**, it connects to representing data using multiple encoding schemes (2-DA-07), creating interactive data visualizations of real-world phenomena (3A-DA-11), and using data analysis tools and techiques to identify patterns in data representing complex systems (3B-DA-05)."
   ]
  },
  {
   "cell_type": "markdown",
   "id": "43",
   "metadata": {},
   "source": [
    "---\n",
    "# Key Takeaways about Computational Notebooks\n",
    "\n",
    "One strength of computational notebooks is that they can provide **clear models of code**, while also allowing the space to **explore and make discoveries with data**.\n",
    "\n",
    "Another is that as you learn more about the code, you can begin to create your own **real, integrated data stories**.\n",
    "\n",
    "Working in a notebook is a new skill. The most important thing you can bring to it is a **productive mindset**. Encourage these habits of mind in yourself and your students:\n",
    "\n",
    "- **💡 Embrace Tinkering**  \n",
    "  You can’t permanently break anything. If your notebook gets messy or you get stuck, you can always reset everything.\n",
    "\n",
    "- **🧠 Code as Expression**  \n",
    "  Students should read and change the code in ways that reflect _scientific ideas_ about what they are exploring. Code can help externalize and test their ideas about science _and_ data.\n",
    "\n",
    "- **📝 Document Your Journey**  \n",
    "  Use text cells as your lab notebook. Write down your questions before you write code. This practice of “documenting as you go” is a powerful skill for thinking and for collaboration.\n",
    "\n",
    "- **❌ Errors are Your Friends**  \n",
    "  Everyone gets error messages. An error is not a sign of failure; it is a **clue**. Learning to read error messages is a core part of learning to code.\n",
    "\n",
    "- **🔍 Be Curious**  \n",
    "  This is the most important disposition of all. A notebook is a tool for asking and answering questions. Use it to explore your curiosity and empower your students to explore theirs."
   ]
  },
  {
   "cell_type": "markdown",
   "id": "44",
   "metadata": {},
   "source": [
    "<hr style=\"border: 5px solid #003262;\" />\n",
    "\n",
    "### 🔸 Credits"
   ]
  },
  {
   "cell_type": "markdown",
   "id": "45",
   "metadata": {},
   "source": [
    "This notebook was developed as part of \"Show York Work\" (SyW), a research and development project at UC Berkeley to introduce computational notebooks to K-12 educators.\n",
    "\n",
    "The SyW team includes, in alphabetical order: Pavritha Arun Anand, Sun Young Ban, Chul Huang, JungMin Shin, Michelle Wilkerson, and Xiaoyue Zhang.\n",
    "\n",
    "This specific notebook includes contributions from Michelle Wilkerson, JungMin Shin, Sun Young Ban, and Xiaoyue Zhang.\n",
    "\n",
    "Preliminary drafting of the notebook was done with the assistance of Google Gemini Pro 2.5.\n",
    "\n",
    "The Palmer Penguins dataset was downloaded from https://github.com/allisonhorst/palmerpenguins, lisenced under CC1.0 Universal. The data were collected from 2007 - 2009 by Dr. Kristen Gorman with the Palmer Station Long Term Ecological Research Program, part of the US Long Term Ecological Research Network.\n",
    "\n",
    "Adelie, Gentoo, and Chinstrap Penguin photos by [Andrew Shiva](https://commons.wikimedia.org/wiki/User:Godot13) / Wikipedia / CC BY-SA 4.0. The Gentoo photo was cropped; no other modifications were made to the images.\n",
    "\n",
    "Bill diagram artwork by [@allison_horst](https://allisonhorst.com/).\n",
    "\n",
    "SyW is supported by a grant from the Barbara Y. White Bequest and by the CalTeach BERET-AIRE (NSF Award - 2419242) Summer Research Institute."
   ]
  },
  {
   "cell_type": "code",
   "execution_count": null,
   "id": "46",
   "metadata": {},
   "outputs": [],
   "source": []
  }
 ],
 "metadata": {
  "kernelspec": {
   "display_name": "Python 3 (ipykernel)",
   "language": "python",
   "name": "python3"
  },
  "language_info": {
   "codemirror_mode": {
    "name": "ipython",
    "version": 3
   },
   "file_extension": ".py",
   "mimetype": "text/x-python",
   "name": "python",
   "nbconvert_exporter": "python",
   "pygments_lexer": "ipython3",
   "version": "3.11.13"
  }
 },
 "nbformat": 4,
 "nbformat_minor": 5
}
